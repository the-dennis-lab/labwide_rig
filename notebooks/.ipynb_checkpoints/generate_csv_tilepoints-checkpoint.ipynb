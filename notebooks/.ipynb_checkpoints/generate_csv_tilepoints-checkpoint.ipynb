{
 "cells": [
  {
   "cell_type": "markdown",
   "id": "5c547df6",
   "metadata": {},
   "source": [
    "# Purpose\n",
    "Goal is to use a few input points to generate all the Zaber coordinates (and then mm coordinates) for the tile centers and produce a csv for use in Bonsai. Also, it would be nice to get all the tile pole locations for making simulations (making hexes, etc.)"
   ]
  },
  {
   "cell_type": "markdown",
   "id": "2f9968dd",
   "metadata": {},
   "source": [
    "# imports"
   ]
  },
  {
   "cell_type": "code",
   "execution_count": 1,
   "id": "8807f3ba",
   "metadata": {},
   "outputs": [],
   "source": [
    "import os, sys, math\n",
    "from datetime import datetime\n",
    "import tifffile as tif\n",
    "import numpy as np\n",
    "import matplotlib.pyplot as plt\n",
    "import matplotlib.patches as patches\n",
    "import pandas as pd"
   ]
  },
  {
   "cell_type": "markdown",
   "id": "df1027ec",
   "metadata": {},
   "source": [
    "# functions"
   ]
  },
  {
   "cell_type": "code",
   "execution_count": 32,
   "id": "9581d9eb",
   "metadata": {},
   "outputs": [],
   "source": [
    "def get_row_vals(centers,index_of_centers,length_of_row):\n",
    "    ''' function to auto-generate row values from a single center val\n",
    "    INPUTS:\n",
    "        1. centers: a tuple or list of center values for a tile in Zaber units (e.g. ls = 238800, ax=47200 the input would be [238800,47200] or (238800,47200))\n",
    "        2. index_of_centers: an integer indicating which tile value you're inputting (e.g. M1 = element 0, M2 = element 1... etc)\n",
    "        3. length_of_row: an integer indicating how many tiles in the row (e.g. 1 if A, 4 if B... 13 if M... 1 if Q)\n",
    "    OUTPUTS:\n",
    "        two lists ls_row_vals and ax_row_vals\n",
    "    EXAMPLE:\n",
    "        M1c = (230100, 46500)\n",
    "        M_ls_cs,M_ax_cs = get_row_vals(M1c,0,13)\n",
    "        print(M_ls_cs)\n",
    "        print(M_ax_cs)\n",
    "        > [230100, 228100, 226100, 224100, 222100, 220100, 218100, 216100, 214100, 212100, 210100, 208100, 206100]\n",
    "        > [46500, 67700, 88900, 110100, 131300, 152500, 173700, 194900, 216100, 237300, 258500, 279700, 300900]\n",
    "        \n",
    "    NOTE: if you have K2c, try\n",
    "        K_ls_cs, K_ax_cs = get_row_vals(K2c,1,13) because K2 is the 1st element in the list of K tile values from 1-13\n",
    "    '''\n",
    "    ls_row_offset = -1900\n",
    "    ax_row_offset= 21400\n",
    "    print('using ls_row_offset of {} and ax_row_offset of {}'.format(ls_row_offset,ax_row_offset))\n",
    "    ls = centers[0]\n",
    "    ax = centers[1]\n",
    "    ls_row_vals=[]\n",
    "    ax_row_vals=[]\n",
    "    for i in np.arange(0-index_of_centers,length_of_row-index_of_centers):\n",
    "        ls_row_vals.append(ls+i*ls_row_offset)\n",
    "        ax_row_vals.append(ax+i*ax_row_offset)\n",
    "    return ls_row_vals, ax_row_vals"
   ]
  },
  {
   "cell_type": "code",
   "execution_count": 49,
   "id": "cbd5984e",
   "metadata": {},
   "outputs": [],
   "source": [
    "def get_neighbor_tile(centers,direction):\n",
    "    ''' INPUTS\n",
    "        1. centers: a tuple or list of center values for a tile in Zaber units (e.g. ls = 238800, ax=47200 the input would be [238800,47200] or (238800,47200))\n",
    "        2. direction: an int, either 0 for above right or 1 for below right (e.g. to get M2 from L2, use 1. to get L1 from M1, use 0)\n",
    "        \n",
    "        TODO later I should make this more flexible and harder to mess up\n",
    "        OUTPUTS:\n",
    "        1. new list with the center values in [ls,ax]\n",
    "    '''\n",
    "    ls = centers[0]\n",
    "    ax = centers[1]\n",
    "    M1_to_L1_offset = [-19500,9200]\n",
    "    L1_to_M2_offset = [17600,12200]\n",
    "    if direction == 0:\n",
    "        new_centers = [ls+M1_to_L1_offset[0],ax+M1_to_L1_offset[1]]\n",
    "        print('generated the tile center above and right of the values provided (e.g. M1 center entered, want L1 centers) using {} offset'.format(M1_to_L1_offset))\n",
    "    elif direction == 1:\n",
    "        new_centers = [ls+L1_to_M2_offset[0],ax+L1_to_M2_offset[1]]\n",
    "        print('generated the tile center from below and right of the values provided (e.g. L1 center entered, want M2 centers) using {} offset'.format(L1_to_M2_offset))\n",
    "    else:\n",
    "        print('ERROR: you entered {}, which must be either 0 (for above, right) or 1 (for below, right)')\n",
    "        new_centers=[]\n",
    "    return new_centers"
   ]
  },
  {
   "cell_type": "code",
   "execution_count": 227,
   "id": "2b47e5c9",
   "metadata": {},
   "outputs": [],
   "source": [
    "def get_relative_vals(df, location1, location2):\n",
    "    '''\n",
    "    INPUTS: \n",
    "        1. df: a pandas DataFrame with three columns: name, ls_guess, and ax_new_guess\n",
    "        2. \n",
    "        3. \n",
    "    OUTPUTS:\n",
    "        1. ls_high the highest ls value as an integer\n",
    "        2. ls_low the lowest ls value as an integer\n",
    "        3. ax_high the highest ax value as an integer\n",
    "        4. ax_low the lowest ax value as an integer\n",
    "    '''\n",
    "    ax1= int(df.ax_new_guess[df.name==location1]/100)\n",
    "    ax2 = int(df.ax_new_guess[df.name==location2]/100)\n",
    "    ls1= int(df.ls_guess[df.name==location1]/100)\n",
    "    ls2 = int(df.ls_guess[df.name==location2]/100)\n",
    "    if ls1 > ls2:\n",
    "        ls_high = ls1\n",
    "        ls_low = ls2\n",
    "    else:\n",
    "        ls_low = ls1\n",
    "        ls_high = ls2\n",
    "    if ax1 > ax2:\n",
    "        ax_low = ax2\n",
    "        ax_high = ax1\n",
    "    else:\n",
    "        ax_low = ax1\n",
    "        ax_high = ax2\n",
    "    return ls_high,ls_low,ax_high,ax_low"
   ]
  },
  {
   "cell_type": "code",
   "execution_count": 288,
   "id": "bd2cad23",
   "metadata": {},
   "outputs": [],
   "source": [
    "def get_closest(list_input,num):\n",
    "    aux = []\n",
    "    for val in list_input:\n",
    "        aux.append(abs(num-val))\n",
    "\n",
    "    return aux.index(min(aux))"
   ]
  },
  {
   "cell_type": "code",
   "execution_count": 289,
   "id": "14a31e10",
   "metadata": {},
   "outputs": [],
   "source": [
    "def getpoints(p1, p2):\n",
    "    # Sort both points first.\n",
    "    (x1, y1), (x2, y2) = sorted([p1, p2])\n",
    "    a = b = 0.0\n",
    "    yvals=[]\n",
    "    xvals=np.arange(int(x1), int(x2) + 1)    \n",
    "    # First point is in (0, y).\n",
    "    if x1 == 0.0:\n",
    "        b = y1\n",
    "        a = (y2 - y1) / x2\n",
    "    elif x2 == 0.0:\n",
    "        # Second point is in (0, y).\n",
    "        b = y2\n",
    "        a = (y1 - y2) / x1\n",
    "    else:\n",
    "        # Both points are valid.\n",
    "        b = (y2 - (y1 * x2) / x1) / (1 - (x2 / x1))\n",
    "        a = (y1 - b) / x1\n",
    "        for x in xvals:\n",
    "            yvals.append(a * float(x) + b)\n",
    "    yvals=[round(val) for val in yvals]\n",
    "    axs=[]\n",
    "    lss=[]\n",
    "    for val in np.arange(np.min(yvals),np.max(yvals)):\n",
    "        i=get_closest(yvals,val) # gets integer of yval closest\n",
    "        lss.append(xvals[i])\n",
    "        axs.append(yvals[i])\n",
    "    return (lss, axs)"
   ]
  },
  {
   "cell_type": "code",
   "execution_count": 50,
   "id": "c5cc6c2e",
   "metadata": {},
   "outputs": [
    {
     "name": "stdout",
     "output_type": "stream",
     "text": [
      "using ls_row_offset of -1900 and ax_row_offset of 21400\n",
      "generated the tile center above and right of the values provided (e.g. M1 center entered, want L1 centers) using [-19500, 9200] offset\n",
      "using ls_row_offset of -1900 and ax_row_offset of 21400\n"
     ]
    }
   ],
   "source": [
    "# from M1 top\n",
    "M1_top_ls= 238800\n",
    "M1_top_ax= 47200\n",
    "\n",
    "# get M1 center\n",
    "M1c = (M1_top_ls+middle_from_0_offset[0],M1_top_ax+middle_from_0_offset[1])\n",
    "\n",
    "# get all M centers (13)\n",
    "\n",
    "M_ls_cs,M_ax_cs = get_row_vals(M1c,0,13)\n",
    "    \n",
    "# get L centers (12)\n",
    "L1c = get_neighbor_tile(M1c,0)\n",
    "L_ls_cs,L_ax_cs = get_row_vals(L1c,0,12)"
   ]
  },
  {
   "cell_type": "code",
   "execution_count": 51,
   "id": "f5e101a9",
   "metadata": {},
   "outputs": [
    {
     "name": "stdout",
     "output_type": "stream",
     "text": [
      "generated the tile center above and right of the values provided (e.g. M1 center entered, want L1 centers) using [-19500, 9200] offset\n",
      "[208700, 66300]\n",
      "using ls_row_offset of -1900 and ax_row_offset of 21400\n"
     ]
    }
   ],
   "source": [
    "# get K centers, using K2\n",
    "K2c=get_neighbor_tile(L1c,0)\n",
    "print(K2c)\n",
    "K_ls_cs,K_ax_cs = get_row_vals(K2c,1,13)"
   ]
  },
  {
   "cell_type": "code",
   "execution_count": 68,
   "id": "922eb5b4",
   "metadata": {},
   "outputs": [
    {
     "name": "stdout",
     "output_type": "stream",
     "text": [
      "generated the tile center above and right of the values provided (e.g. M1 center entered, want L1 centers) using [-19500, 9200] offset\n",
      "using ls_row_offset of -1900 and ax_row_offset of 21400\n",
      "generated the tile center above and right of the values provided (e.g. M1 center entered, want L1 centers) using [-19500, 9200] offset\n",
      "using ls_row_offset of -1900 and ax_row_offset of 21400\n",
      "generated the tile center above and right of the values provided (e.g. M1 center entered, want L1 centers) using [-19500, 9200] offset\n",
      "using ls_row_offset of -1900 and ax_row_offset of 21400\n",
      "generated the tile center above and right of the values provided (e.g. M1 center entered, want L1 centers) using [-19500, 9200] offset\n",
      "using ls_row_offset of -1900 and ax_row_offset of 21400\n",
      "generated the tile center above and right of the values provided (e.g. M1 center entered, want L1 centers) using [-19500, 9200] offset\n",
      "using ls_row_offset of -1900 and ax_row_offset of 21400\n",
      "generated the tile center above and right of the values provided (e.g. M1 center entered, want L1 centers) using [-19500, 9200] offset\n",
      "using ls_row_offset of -1900 and ax_row_offset of 21400\n",
      "generated the tile center above and right of the values provided (e.g. M1 center entered, want L1 centers) using [-19500, 9200] offset\n",
      "using ls_row_offset of -1900 and ax_row_offset of 21400\n",
      "generated the tile center above and right of the values provided (e.g. M1 center entered, want L1 centers) using [-19500, 9200] offset\n",
      "using ls_row_offset of -1900 and ax_row_offset of 21400\n",
      "generated the tile center above and right of the values provided (e.g. M1 center entered, want L1 centers) using [-19500, 9200] offset\n",
      "using ls_row_offset of -1900 and ax_row_offset of 21400\n",
      "generated the tile center above and right of the values provided (e.g. M1 center entered, want L1 centers) using [-19500, 9200] offset\n"
     ]
    }
   ],
   "source": [
    "# get Js, Hs, Fs\n",
    "# J from L\n",
    "J1c = get_neighbor_tile([K_ls_cs[0],K_ax_cs[0]],0)\n",
    "J_ls_cs,J_ax_cs = get_row_vals(J1c,0,12)\n",
    "\n",
    "I2c = get_neighbor_tile(J1c,0)\n",
    "I_ls_cs,I_ax_cs = get_row_vals(I2c,1,13)\n",
    "\n",
    "H1c = get_neighbor_tile([I_ls_cs[0],I_ax_cs[0]],0)\n",
    "H_ls_cs,H_ax_cs = get_row_vals(H1c,0,12)\n",
    "\n",
    "G2c = get_neighbor_tile(H1c,0)\n",
    "G_ls_cs,G_ax_cs = get_row_vals(G2c,1,13)\n",
    "\n",
    "F2c = get_neighbor_tile(G2c,0)\n",
    "F_ls_cs,F_ax_cs = get_row_vals(F2c,1,12)\n",
    "\n",
    "E2c = get_neighbor_tile([F_ls_cs[0],F_ax_cs[0]],0)\n",
    "E_ls_cs,E_ax_cs = get_row_vals(E2c,1,13)\n",
    "\n",
    "# get D1 from E2, make 10 Ds\n",
    "D1c=get_neighbor_tile(E2c,0)\n",
    "D_ls_cs,D_ax_cs = get_row_vals(D1c,0,10)\n",
    "\n",
    "# get C1 from D2, make 7 Cs\n",
    "C1c = get_neighbor_tile([D_ls_cs[1],D_ax_cs[1]],0)\n",
    "C_ls_cs,C_ax_cs = get_row_vals(C1c,0,7)\n",
    "\n",
    "# get B1 from C2, make 4 Bs\n",
    "B1c = get_neighbor_tile([C_ls_cs[1],C_ax_cs[1]],0)\n",
    "B_ls_cs,B_ax_cs = get_row_vals(B1c,0,4)\n",
    "\n",
    "# get A1 from B2\n",
    "A1c = get_neighbor_tile([B_ls_cs[1],B_ax_cs[1]],0)\n",
    "A_ls_cs = [A1c[0]]\n",
    "A_ax_cs = [A1c[1]]\n"
   ]
  },
  {
   "cell_type": "code",
   "execution_count": 76,
   "id": "d4bea3ab",
   "metadata": {},
   "outputs": [
    {
     "data": {
      "text/plain": [
       "<matplotlib.collections.PathCollection at 0x188b9d3d940>"
      ]
     },
     "execution_count": 76,
     "metadata": {},
     "output_type": "execute_result"
    },
    {
     "data": {
      "image/png": "[encoded data removed]",
      "text/plain": [
       "<Figure size 432x288 with 1 Axes>"
      ]
     },
     "metadata": {
      "needs_background": "light"
     },
     "output_type": "display_data"
    }
   ],
   "source": [
    "plt.scatter(A_ax_cs,A_ls_cs)\n",
    "plt.scatter(B_ax_cs,B_ls_cs)\n",
    "plt.scatter(C_ax_cs,C_ls_cs)\n",
    "plt.scatter(D_ax_cs,D_ls_cs)\n",
    "plt.scatter(E_ax_cs,E_ls_cs)\n",
    "plt.scatter(E_ax_cs[0],E_ls_cs[0],s=100)\n",
    "plt.scatter(F_ax_cs,F_ls_cs)\n",
    "plt.scatter(G_ax_cs,G_ls_cs)\n",
    "plt.scatter(H_ax_cs,H_ls_cs)\n",
    "plt.scatter(I_ax_cs,I_ls_cs)\n",
    "plt.scatter(J_ax_cs,J_ls_cs)\n",
    "plt.scatter(K_ax_cs,K_ls_cs)\n",
    "plt.scatter(L_ax_cs,L_ls_cs)\n",
    "plt.scatter(M_ax_cs,M_ls_cs)\n"
   ]
  },
  {
   "cell_type": "code",
   "execution_count": 78,
   "id": "9d926132",
   "metadata": {},
   "outputs": [
    {
     "name": "stdout",
     "output_type": "stream",
     "text": [
      "generated the tile center from below and right of the values provided (e.g. L1 center entered, want M2 centers) using [17600, 12200] offset\n",
      "using ls_row_offset of -1900 and ax_row_offset of 21400\n",
      "generated the tile center from below and right of the values provided (e.g. L1 center entered, want M2 centers) using [17600, 12200] offset\n",
      "using ls_row_offset of -1900 and ax_row_offset of 21400\n",
      "generated the tile center from below and right of the values provided (e.g. L1 center entered, want M2 centers) using [17600, 12200] offset\n",
      "using ls_row_offset of -1900 and ax_row_offset of 21400\n",
      "generated the tile center from below and right of the values provided (e.g. L1 center entered, want M2 centers) using [17600, 12200] offset\n"
     ]
    }
   ],
   "source": [
    "# get N1 from M2, get 10 Ns\n",
    "N1c = get_neighbor_tile([M_ls_cs[1],M_ax_cs[1]],1)\n",
    "N_ls_cs,N_ax_cs = get_row_vals(N1c,0,10)\n",
    "\n",
    "# get O1 from N2, get 7 Os\n",
    "O1c = get_neighbor_tile([N_ls_cs[1],N_ax_cs[1]],1)\n",
    "O_ls_cs,O_ax_cs = get_row_vals(O1c,0,7)\n",
    "\n",
    "# get P1 from O2, get 4 Ps\n",
    "P1c = get_neighbor_tile([O_ls_cs[1],O_ax_cs[1]],1)\n",
    "P_ls_cs,P_ax_cs = get_row_vals(P1c,0,4)\n",
    "\n",
    "# g15 Q1 from Ps\n",
    "Q1c = get_neighbor_tile([P_ls_cs[1],P_ax_cs[1]],1)\n",
    "Q_ls_cs = [Q1c[0]]\n",
    "Q_ax_cs = [Q1c[1]]\n"
   ]
  },
  {
   "cell_type": "code",
   "execution_count": 80,
   "id": "e94192f0",
   "metadata": {},
   "outputs": [],
   "source": [
    "all_ax_cs = [A_ax_cs,B_ax_cs,C_ax_cs,D_ax_cs,E_ax_cs,F_ax_cs,G_ax_cs,H_ax_cs,I_ax_cs,J_ax_cs,K_ax_cs,L_ax_cs,M_ax_cs,N_ax_cs,O_ax_cs,P_ax_cs,Q_ax_cs]\n",
    "all_ls_cs = [A_ls_cs,B_ls_cs,C_ls_cs,D_ls_cs,E_ls_cs,F_ls_cs,G_ls_cs,H_ls_cs,I_ls_cs,J_ls_cs,K_ls_cs,L_ls_cs,M_ls_cs,N_ls_cs,O_ls_cs,P_ls_cs,Q_ls_cs]"
   ]
  },
  {
   "cell_type": "code",
   "execution_count": 342,
   "id": "55a9de7d",
   "metadata": {},
   "outputs": [
    {
     "ename": "NameError",
     "evalue": "name 'all_ax_cs' is not defined",
     "output_type": "error",
     "traceback": [
      "\u001b[1;31m---------------------------------------------------------------------------\u001b[0m",
      "\u001b[1;31mNameError\u001b[0m                                 Traceback (most recent call last)",
      "Input \u001b[1;32mIn [342]\u001b[0m, in \u001b[0;36m<cell line: 1>\u001b[1;34m()\u001b[0m\n\u001b[1;32m----> 1\u001b[0m \u001b[38;5;28;01mfor\u001b[39;00m i \u001b[38;5;129;01min\u001b[39;00m np\u001b[38;5;241m.\u001b[39marange(\u001b[38;5;241m0\u001b[39m,\u001b[38;5;28mlen\u001b[39m(\u001b[43mall_ax_cs\u001b[49m)):\n\u001b[0;32m      2\u001b[0m     plt\u001b[38;5;241m.\u001b[39mscatter(all_ax_cs[i],all_ls_cs[i])\n\u001b[0;32m      3\u001b[0m plt\u001b[38;5;241m.\u001b[39mscatter(all_ax_cs[\u001b[38;5;241m0\u001b[39m],all_ls_cs[\u001b[38;5;241m0\u001b[39m],s\u001b[38;5;241m=\u001b[39m\u001b[38;5;241m100\u001b[39m)\n",
      "\u001b[1;31mNameError\u001b[0m: name 'all_ax_cs' is not defined"
     ]
    }
   ],
   "source": [
    "for i in np.arange(0,len(all_ax_cs)):\n",
    "    plt.scatter(all_ax_cs[i],all_ls_cs[i])\n",
    "plt.scatter(all_ax_cs[0],all_ls_cs[0],s=100)\n",
    "    \n",
    "plt.xlim([0,350000])\n",
    "plt.ylim([-5000,345000])\n",
    "plt.title('check E2 center is [ls,ax]: {} \\n E12 center is {} \\n  M12 center is {}'.format((E_ls_cs[1],E_ax_cs[1]),(E_ls_cs[11],E_ax_cs[11]),(M_ls_cs[11],M_ax_cs[11])))\n",
    "#plt.scatter(current_file.ax_new_guess,current_file.ls_guess,c='k',alpha=0.2)\n",
    "plt.show()"
   ]
  },
  {
   "cell_type": "code",
   "execution_count": 85,
   "id": "5c93e84a",
   "metadata": {},
   "outputs": [
    {
     "name": "stdout",
     "output_type": "stream",
     "text": [
      "ABCDEFGHIJLKMNOPQ ['1' '2' '3' '4' '5' '6' '7' '8' '9' '10' '11' '12' '13']\n"
     ]
    }
   ],
   "source": [
    "alpha = 'ABCDEFGHIJLKMNOPQ'\n",
    "numera = np.arange(1,14).astype(str)\n",
    "print(alpha,numera)"
   ]
  },
  {
   "cell_type": "code",
   "execution_count": 92,
   "id": "2c2c2f1f",
   "metadata": {},
   "outputs": [
    {
     "name": "stdout",
     "output_type": "stream",
     "text": [
      "0\n",
      "1\n",
      "2\n",
      "3\n",
      "4\n",
      "5\n",
      "6\n",
      "7\n",
      "8\n",
      "9\n",
      "10\n",
      "11\n",
      "12\n",
      "13\n",
      "14\n",
      "15\n",
      "16\n"
     ]
    }
   ],
   "source": [
    "names = []\n",
    "ls_guesses = []\n",
    "ax_new_guesses = []\n",
    "\n",
    "for i in np.arange(0,len(all_ax_cs)):\n",
    "    print(i)\n",
    "    curr_ax = all_ax_cs[i]\n",
    "    curr_ls = all_ls_cs[i]\n",
    "\n",
    "    for j in np.arange(0,len(curr_ax)):\n",
    "        names.append(alpha[i]+numera[j])\n",
    "        ls_guesses.append(int(curr_ls[j]))\n",
    "        ax_new_guesses.append(int(curr_ax[j]))\n",
    "new_dict = {'name':names,'ls_guess':ls_guesses,'ax_new_guess':ax_new_guesses}\n",
    "new_csv = pd.DataFrame(new_dict)        "
   ]
  },
  {
   "cell_type": "code",
   "execution_count": 343,
   "id": "c711919b",
   "metadata": {},
   "outputs": [
    {
     "data": {
      "text/plain": [
       "'../../../zaber_centers_20240107.csv'"
      ]
     },
     "execution_count": 343,
     "metadata": {},
     "output_type": "execute_result"
    }
   ],
   "source": [
    "# create name and save out file\n",
    "now = datetime.now()\n",
    "filestring = \"../../../zaber_centers_\"+now.strftime(\"%Y%m%d\")+\".csv\"\n",
    "filestring\n",
    "new_csv.to_csv(filestring)"
   ]
  },
  {
   "cell_type": "markdown",
   "id": "9c67c43f",
   "metadata": {},
   "source": [
    "# image files"
   ]
  },
  {
   "cell_type": "code",
   "execution_count": 344,
   "id": "5ee30f56",
   "metadata": {},
   "outputs": [
    {
     "data": {
      "text/html": [
       "<div>\n",
       "<style scoped>\n",
       "    .dataframe tbody tr th:only-of-type {\n",
       "        vertical-align: middle;\n",
       "    }\n",
       "\n",
       "    .dataframe tbody tr th {\n",
       "        vertical-align: top;\n",
       "    }\n",
       "\n",
       "    .dataframe thead th {\n",
       "        text-align: right;\n",
       "    }\n",
       "</style>\n",
       "<table border=\"1\" class=\"dataframe\">\n",
       "  <thead>\n",
       "    <tr style=\"text-align: right;\">\n",
       "      <th></th>\n",
       "      <th>name</th>\n",
       "      <th>ls_guess</th>\n",
       "      <th>ax_new_guess</th>\n",
       "    </tr>\n",
       "  </thead>\n",
       "  <tbody>\n",
       "    <tr>\n",
       "      <th>0</th>\n",
       "      <td>A1</td>\n",
       "      <td>13700</td>\n",
       "      <td>158300</td>\n",
       "    </tr>\n",
       "    <tr>\n",
       "      <th>1</th>\n",
       "      <td>B1</td>\n",
       "      <td>35100</td>\n",
       "      <td>127700</td>\n",
       "    </tr>\n",
       "    <tr>\n",
       "      <th>2</th>\n",
       "      <td>B2</td>\n",
       "      <td>33200</td>\n",
       "      <td>149100</td>\n",
       "    </tr>\n",
       "    <tr>\n",
       "      <th>3</th>\n",
       "      <td>B3</td>\n",
       "      <td>31300</td>\n",
       "      <td>170500</td>\n",
       "    </tr>\n",
       "    <tr>\n",
       "      <th>4</th>\n",
       "      <td>B4</td>\n",
       "      <td>29400</td>\n",
       "      <td>191900</td>\n",
       "    </tr>\n",
       "    <tr>\n",
       "      <th>...</th>\n",
       "      <td>...</td>\n",
       "      <td>...</td>\n",
       "      <td>...</td>\n",
       "    </tr>\n",
       "    <tr>\n",
       "      <th>152</th>\n",
       "      <td>P1</td>\n",
       "      <td>294800</td>\n",
       "      <td>148700</td>\n",
       "    </tr>\n",
       "    <tr>\n",
       "      <th>153</th>\n",
       "      <td>P2</td>\n",
       "      <td>292900</td>\n",
       "      <td>170100</td>\n",
       "    </tr>\n",
       "    <tr>\n",
       "      <th>154</th>\n",
       "      <td>P3</td>\n",
       "      <td>291000</td>\n",
       "      <td>191500</td>\n",
       "    </tr>\n",
       "    <tr>\n",
       "      <th>155</th>\n",
       "      <td>P4</td>\n",
       "      <td>289100</td>\n",
       "      <td>212900</td>\n",
       "    </tr>\n",
       "    <tr>\n",
       "      <th>156</th>\n",
       "      <td>Q1</td>\n",
       "      <td>310500</td>\n",
       "      <td>182300</td>\n",
       "    </tr>\n",
       "  </tbody>\n",
       "</table>\n",
       "<p>157 rows × 3 columns</p>\n",
       "</div>"
      ],
      "text/plain": [
       "    name  ls_guess  ax_new_guess\n",
       "0     A1     13700        158300\n",
       "1     B1     35100        127700\n",
       "2     B2     33200        149100\n",
       "3     B3     31300        170500\n",
       "4     B4     29400        191900\n",
       "..   ...       ...           ...\n",
       "152   P1    294800        148700\n",
       "153   P2    292900        170100\n",
       "154   P3    291000        191500\n",
       "155   P4    289100        212900\n",
       "156   Q1    310500        182300\n",
       "\n",
       "[157 rows x 3 columns]"
      ]
     },
     "execution_count": 344,
     "metadata": {},
     "output_type": "execute_result"
    }
   ],
   "source": [
    "# if not running all at once, load most recent zaber_centers file\n",
    "new_csv = pd.read_csv('/Users/dennise/Desktop/zaber_centers_20240104.csv').drop(columns=\"Unnamed: 0\")\n",
    "new_csv"
   ]
  },
  {
   "cell_type": "markdown",
   "id": "9e0df62b",
   "metadata": {},
   "source": [
    "# how I figured out how to generate image files"
   ]
  },
  {
   "cell_type": "code",
   "execution_count": 22,
   "id": "0f09e688",
   "metadata": {},
   "outputs": [
    {
     "data": {
      "text/plain": [
       "<matplotlib.collections.PathCollection at 0x1d7162ff1f0>"
      ]
     },
     "execution_count": 22,
     "metadata": {},
     "output_type": "execute_result"
    },
    {
     "data": {
      "image/png": "[encoded data removed]",
      "text/plain": [
       "<Figure size 1440x720 with 2 Axes>"
      ]
     },
     "metadata": {
      "needs_background": "light"
     },
     "output_type": "display_data"
    }
   ],
   "source": [
    "tif_ls = tif.imread('/Users/dennise/Downloads/drive-download-20240106T221701Z-001/rig_l_mult_20230919.tif')\n",
    "tif_ax = tif.imread('/Users/dennise/Downloads/drive-download-20240106T221701Z-001/rig_ax3_mult_20230915.tif')\n",
    "fig,(ax1,ax2)=plt.subplots(1,2,figsize=(20,10))\n",
    "\n",
    "ax1.imshow(tif_ls)\n",
    "ax1.scatter(current_file.ax_new_guess/100,current_file.ls_guess/100)\n",
    "ax2.imshow(tif_ax)\n",
    "ax2.scatter(current_file.ax_new_guess/100,current_file.ls_guess/100)\n"
   ]
  },
  {
   "cell_type": "code",
   "execution_count": 86,
   "id": "1a19bfd6",
   "metadata": {},
   "outputs": [],
   "source": [
    "# in bonsai, we take the zaber ls value, zaber ax3 value\n",
    "# and index the image at img[int(ls/100),int(ax/100)]"
   ]
  },
  {
   "cell_type": "code",
   "execution_count": 87,
   "id": "910ba6c0",
   "metadata": {},
   "outputs": [
    {
     "data": {
      "text/plain": [
       "<matplotlib.image.AxesImage at 0x1d70ed78610>"
      ]
     },
     "execution_count": 87,
     "metadata": {},
     "output_type": "execute_result"
    },
    {
     "data": {
      "image/png": "[encoded data removed]",
      "text/plain": [
       "<Figure size 432x288 with 1 Axes>"
      ]
     },
     "metadata": {
      "needs_background": "light"
     },
     "output_type": "display_data"
    }
   ],
   "source": [
    "plt.imshow(tif_ls)"
   ]
  },
  {
   "cell_type": "code",
   "execution_count": 38,
   "id": "be9f4508",
   "metadata": {},
   "outputs": [
    {
     "ename": "AttributeError",
     "evalue": "'AxesSubplot' object has no attribute 'colorbar'",
     "output_type": "error",
     "traceback": [
      "\u001b[1;31m---------------------------------------------------------------------------\u001b[0m",
      "\u001b[1;31mAttributeError\u001b[0m                            Traceback (most recent call last)",
      "Input \u001b[1;32mIn [38]\u001b[0m, in \u001b[0;36m<cell line: 7>\u001b[1;34m()\u001b[0m\n\u001b[0;32m      5\u001b[0m ax2\u001b[38;5;241m.\u001b[39mimshow(tif_ax)\n\u001b[0;32m      6\u001b[0m ax2\u001b[38;5;241m.\u001b[39mscatter(new_csv\u001b[38;5;241m.\u001b[39max_new_guess\u001b[38;5;241m/\u001b[39m\u001b[38;5;241m100\u001b[39m,new_csv\u001b[38;5;241m.\u001b[39mls_guess\u001b[38;5;241m/\u001b[39m\u001b[38;5;241m100\u001b[39m)\n\u001b[1;32m----> 7\u001b[0m \u001b[43max2\u001b[49m\u001b[38;5;241;43m.\u001b[39;49m\u001b[43mcolorbar\u001b[49m()\n\u001b[0;32m      8\u001b[0m ax2\u001b[38;5;241m.\u001b[39mscatter(new_csv\u001b[38;5;241m.\u001b[39max_new_guess[\u001b[38;5;241m1\u001b[39m]\u001b[38;5;241m/\u001b[39m\u001b[38;5;241m100\u001b[39m,new_csv\u001b[38;5;241m.\u001b[39mls_guess[\u001b[38;5;241m1\u001b[39m]\u001b[38;5;241m/\u001b[39m\u001b[38;5;241m100\u001b[39m)\n",
      "\u001b[1;31mAttributeError\u001b[0m: 'AxesSubplot' object has no attribute 'colorbar'"
     ]
    },
    {
     "data": {
      "image/png": "[encoded data removed]",
      "text/plain": [
       "<Figure size 1440x720 with 2 Axes>"
      ]
     },
     "metadata": {
      "needs_background": "light"
     },
     "output_type": "display_data"
    }
   ],
   "source": [
    "fig,(ax1,ax2)=plt.subplots(1,2,figsize=(20,10))\n",
    "\n",
    "ax1.imshow(tif_ls)\n",
    "ax1.scatter(new_csv.ax_new_guess/100,new_csv.ls_guess/100)\n",
    "ax2.imshow(tif_ax)\n",
    "ax2.scatter(new_csv.ax_new_guess/100,new_csv.ls_guess/100)\n",
    "ax2.scatter(new_csv.ax_new_guess[1]/100,new_csv.ls_guess[1]/100)"
   ]
  },
  {
   "cell_type": "code",
   "execution_count": 346,
   "id": "d7f6c10f",
   "metadata": {},
   "outputs": [
    {
     "data": {
      "text/plain": [
       "Text(0.5, 0, 'ax')"
      ]
     },
     "execution_count": 346,
     "metadata": {},
     "output_type": "execute_result"
    },
    {
     "data": {
      "image/png": "[encoded data removed]",
      "text/plain": [
       "<Figure size 432x288 with 1 Axes>"
      ]
     },
     "metadata": {
      "needs_background": "light"
     },
     "output_type": "display_data"
    }
   ],
   "source": [
    "nm = \"B4\"\n",
    "df = new_csv.copy()\n",
    "plt.imshow(tif_ls)\n",
    "plt.scatter(df.ax_new_guess[df.name==nm]/100,df.ls_guess[df.name==nm]/100,c='k')\n",
    "nm = \"B1\"\n",
    "plt.scatter(df.ax_new_guess[df.name==nm]/100,df.ls_guess[df.name==nm]/100,c='w')\n",
    "\n",
    "nm = \"P1\"\n",
    "plt.scatter(df.ax_new_guess[df.name==nm]/100,df.ls_guess[df.name==nm]/100,c='w')\n",
    "nm = \"P4\"\n",
    "plt.scatter(df.ax_new_guess[df.name==nm]/100,df.ls_guess[df.name==nm]/100,c='k')\n",
    "\n",
    "nm = \"E1\"\n",
    "plt.scatter(df.ax_new_guess[df.name==nm]/100,df.ls_guess[df.name==nm]/100,c='c')\n",
    "nm = \"E13\"\n",
    "plt.scatter(df.ax_new_guess[df.name==nm]/100,df.ls_guess[df.name==nm]/100,c='b')\n",
    "\n",
    "nm = \"M1\"\n",
    "plt.scatter(df.ax_new_guess[df.name==nm]/100,df.ls_guess[df.name==nm]/100,c='r')\n",
    "nm = \"M13\"\n",
    "plt.scatter(df.ax_new_guess[df.name==nm]/100,df.ls_guess[df.name==nm]/100,c='pink')\n",
    "plt.ylabel('ls')\n",
    "plt.xlabel('ax')"
   ]
  },
  {
   "cell_type": "code",
   "execution_count": 324,
   "id": "65a04ae6",
   "metadata": {
    "scrolled": false
   },
   "outputs": [
    {
     "data": {
      "text/plain": [
       "<matplotlib.collections.PathCollection at 0x1d7959ea640>"
      ]
     },
     "execution_count": 324,
     "metadata": {},
     "output_type": "execute_result"
    },
    {
     "data": {
      "image/png": "[encoded data removed]",
      "text/plain": [
       "<Figure size 1440x720 with 1 Axes>"
      ]
     },
     "metadata": {
      "needs_background": "light"
     },
     "output_type": "display_data"
    }
   ],
   "source": [
    "new_ls = np.zeros((3000,3000,3))\n",
    "\n",
    "# fill vertical stripe from top to bottom\n",
    "[ls_high,ls_low,ax_high,ax_low]=get_relative_vals(new_csv,\"B1\",\"B4\")\n",
    "new_ls[0:3000,ax_low:ax_high]=128\n",
    "b_left = ax_low\n",
    "b_right = ax_high\n",
    "\n",
    "# fill horizontal stripe from ax 0 to 3000 and \n",
    "# ...highest ls btw E1,E13 and lowest ls between M1,M13\n",
    "[ls_high,ls_low,ax_high,ax_low]=get_relative_vals(new_csv,\"E1\",\"E13\")\n",
    "start = ls_low\n",
    "[ls_high,ls_low,ax_high,ax_low]=get_relative_vals(new_csv,\"M1\",\"M13\")\n",
    "end = ls_high\n",
    "new_ls[start:end,0:3000]=128\n",
    "\n",
    "# use above #s to fill in white on 'top', will be partially overwritten next\n",
    "new_ls[0:start,0:b_left]=255\n",
    "new_ls[0:start,b_right:3000]=255\n",
    "\n",
    "# now add triangles to finish the hexagon\n",
    "# fill between M1,P1 (bottom left triangle on image)\n",
    "[ls_high,ls_low,ax_high,ax_low]=get_relative_vals(new_csv,\"M1\",\"P1\")\n",
    "[lss,axs] = getpoints((ls_high,ax_high),(ls_low,ax_low-1)) # returns integer locations on line\n",
    "for i in np.arange(1,len(lss)):\n",
    "    new_ls[end:lss[i],axs[i-1]:axs[i]]=128\n",
    "    \n",
    "# fill between P4/M13 (bottom right triangle on image)\n",
    "[ls_high,ls_low,ax_high,ax_low]=get_relative_vals(new_csv,\"P4\",\"M13\")\n",
    "[lss,axs] = getpoints((ls_high,ax_low),(ls_low,ax_high+1)) # returns integer locations on line\n",
    "for i in np.arange(1,len(lss)):\n",
    "    if axs[i] < 3000:\n",
    "        new_ls[ls_low:lss[i],axs[i-1]:axs[i]]=128\n",
    "\n",
    "# there may be a gap on the bottom right inside the arena, fill it\n",
    "new_ls[ls_low:3000,b_left:np.min(axs)]=128\n",
    "\n",
    "# fill between E1/B1 (top left triangle on image)\n",
    "[ls_high,ls_low,ax_high,ax_low]=get_relative_vals(new_csv,\"E1\",\"B1\")\n",
    "#E1 is high ls, low ax\n",
    "[lss,axs] = getpoints((ls_high,ax_low),(ls_low,ax_high+1)) # returns integer locations on line\n",
    "# fill from val to high_ls from ax-1 to ax\n",
    "for i in np.arange(1,len(lss)):\n",
    "    if axs[i]<3000:\n",
    "        new_ls[lss[i]:ls_high,axs[i-1]:axs[i]]=128\n",
    "\n",
    "\n",
    "# fill between B4/E13 (top right triangle on image), B4 is low/low\n",
    "[ls_high,ls_low,ax_high,ax_low]=get_relative_vals(new_csv,\"B4\",\"E13\")\n",
    "[lss,axs] = getpoints((ls_low,ax_low),(ls_high,ax_high+1)) # returns integer locations on line\n",
    "# fill from val to high_ls, ax-1 to ax\n",
    "for i in np.arange(1,len(lss)):\n",
    "    if axs[i]<3000:\n",
    "        new_ls[lss[i]:ls_high,axs[i-1]:axs[i]]=128\n",
    "\n",
    "plt.figure(figsize=(20,10))\n",
    "plt.imshow(new_ls/255)\n",
    "plt.scatter(new_csv.ax_new_guess/100, new_csv.ls_guess/100)"
   ]
  },
  {
   "cell_type": "code",
   "execution_count": 340,
   "id": "bcb7e084",
   "metadata": {},
   "outputs": [],
   "source": [
    "now = datetime.now()\n",
    "ls_tif_filestring = \"../../../rig_l_mult_\"+now.strftime(\"%Y%m%d\")+\".tif\"\n",
    "tif.imsave(ls_tif_filestring,new_ls.astype('uint8'),photometric='rgb')"
   ]
  },
  {
   "cell_type": "markdown",
   "id": "cd6f0f49",
   "metadata": {},
   "source": [
    "## now make AX"
   ]
  },
  {
   "cell_type": "code",
   "execution_count": 356,
   "id": "293353c4",
   "metadata": {},
   "outputs": [
    {
     "data": {
      "text/plain": [
       "Text(0.5, 0, 'ax')"
      ]
     },
     "execution_count": 356,
     "metadata": {},
     "output_type": "execute_result"
    },
    {
     "data": {
      "image/png": "[encoded data removed]",
      "text/plain": [
       "<Figure size 432x288 with 1 Axes>"
      ]
     },
     "metadata": {
      "needs_background": "light"
     },
     "output_type": "display_data"
    }
   ],
   "source": [
    "nm = \"B4\"\n",
    "df = current_file.copy()\n",
    "plt.imshow(tif_ax)\n",
    "plt.scatter(df.ax_new_guess[df.name==nm]/100,df.ls_guess[df.name==nm]/100,c='lightpink')\n",
    "nm = \"B1\"\n",
    "plt.scatter(df.ax_new_guess[df.name==nm]/100,df.ls_guess[df.name==nm]/100,c='w')\n",
    "\n",
    "nm = \"P1\"\n",
    "plt.scatter(df.ax_new_guess[df.name==nm]/100,df.ls_guess[df.name==nm]/100,c='w')\n",
    "nm = \"P4\"\n",
    "plt.scatter(df.ax_new_guess[df.name==nm]/100,df.ls_guess[df.name==nm]/100,c='k')\n",
    "\n",
    "nm = \"E1\"\n",
    "plt.scatter(df.ax_new_guess[df.name==nm]/100,df.ls_guess[df.name==nm]/100,c='c')\n",
    "nm = \"E13\"\n",
    "plt.scatter(df.ax_new_guess[df.name==nm]/100,df.ls_guess[df.name==nm]/100,c='b')\n",
    "\n",
    "nm = \"M1\"\n",
    "plt.scatter(df.ax_new_guess[df.name==nm]/100,df.ls_guess[df.name==nm]/100,c='r')\n",
    "nm = \"M13\"\n",
    "plt.scatter(df.ax_new_guess[df.name==nm]/100,df.ls_guess[df.name==nm]/100,c='pink')\n",
    "plt.ylabel('ls')\n",
    "plt.xlabel('ax')"
   ]
  },
  {
   "cell_type": "code",
   "execution_count": 384,
   "id": "459ebaf3",
   "metadata": {},
   "outputs": [
    {
     "name": "stdout",
     "output_type": "stream",
     "text": [
      "2891 2249 3047 2129\n",
      "765 2477 359 3047\n"
     ]
    },
    {
     "data": {
      "text/plain": [
       "<matplotlib.collections.PathCollection at 0x1d9b8c1caf0>"
      ]
     },
     "execution_count": 384,
     "metadata": {},
     "output_type": "execute_result"
    },
    {
     "data": {
      "image/png": "[encoded data removed]",
      "text/plain": [
       "<Figure size 1440x720 with 1 Axes>"
      ]
     },
     "metadata": {
      "needs_background": "light"
     },
     "output_type": "display_data"
    }
   ],
   "source": [
    "new_ax = np.zeros((3000,3000,3))\n",
    "\n",
    "# first fill everything right of the middle with white\n",
    "# B4 P4 get lowest ax value\n",
    "[ls_high,ls_low,ax_high,ax_low]=get_relative_vals(new_csv,\"B4\",\"P4\")\n",
    "new_ax[:,ax_low:3000]=255\n",
    "\n",
    "# next fill a vertical stripe\n",
    "[ls_high,ls_low,ax_high,ax_low]=get_relative_vals(new_csv,\"B1\",\"B4\")\n",
    "new_ax[0:3000,ax_low:ax_high]=128\n",
    "b_left = ax_low\n",
    "b_right = ax_high\n",
    "\n",
    "# next make a box from low_ls between E1/E13 and high ls between M1/M13 and low ax E1/M1 and high ax E13/M13\n",
    "[ls_high,ls_low,ax_high,ax_low]=get_relative_vals(new_csv,\"E1\",\"E13\")\n",
    "a = ls_low\n",
    "[ls_high,ls_low,ax_high,ax_low]=get_relative_vals(new_csv,\"M1\",\"M13\")\n",
    "b = ls_high\n",
    "[ls_high,ls_low,ax_high,ax_low]=get_relative_vals(new_csv,\"E1\",\"M1\")\n",
    "c = ax_low\n",
    "[ls_high,ls_low,ax_high,ax_low]=get_relative_vals(new_csv,\"E13\",\"M13\")\n",
    "d = ax_high\n",
    "if d < 3000:\n",
    "    new_ax[a:b,c:d]=128\n",
    "else:\n",
    "    new_ax[a:b,c:3000]=128\n",
    "    \n",
    "#now add triangles to finish the hexagon\n",
    "# fill between M1,P1 (bottom left triangle on image)\n",
    "[ls_high,ls_low,ax_high,ax_low]=get_relative_vals(new_csv,\"M1\",\"P1\")\n",
    "[lss,axs] = getpoints((ls_high,ax_high),(ls_low,c-1)) # returns integer locations on line\n",
    "for i in np.arange(1,len(lss)):\n",
    "    new_ax[b:lss[i],axs[i-1]:axs[i]]=128\n",
    "\n",
    "# fill between P4/M13 (bottom right triangle on image)\n",
    "[ls_high,ls_low,ax_high,ax_low]=get_relative_vals(new_csv,\"P4\",\"M13\")\n",
    "[lss,axs] = getpoints((ls_high,ax_low),(b,ax_high+1)) # returns integer locations on line\n",
    "for i in np.arange(1,len(lss)):\n",
    "    if axs[i] < 3000:\n",
    "        new_ax[ls_low:lss[i],axs[i-1]:axs[i]]=128\n",
    "print(ls_high,ls_low,ax_high,ax_low)\n",
    "print(a,b,c,d)\n",
    "\n",
    "# there may be a gap on the bottom right inside the arena, fill it\n",
    "new_ax[ls_low:3000,b_left:np.min(axs)]=128\n",
    "\n",
    "# fill between E1/B1 (top left triangle on image)\n",
    "[ls_high,ls_low,ax_high,ax_low]=get_relative_vals(new_csv,\"E1\",\"B1\")\n",
    "#E1 is high ls, low ax\n",
    "[lss,axs] = getpoints((a,ax_low),(ls_low,ax_high+1)) # returns integer locations on line\n",
    "# fill from val to high_ls from ax-1 to ax\n",
    "for i in np.arange(1,len(lss)):\n",
    "    if axs[i]<3000:\n",
    "        new_ax[lss[i]:ls_high,axs[i-1]:axs[i]]=128\n",
    "\n",
    "# fill between B4/E13 (top right triangle on image), B4 is low/low\n",
    "[ls_high,ls_low,ax_high,ax_low]=get_relative_vals(new_csv,\"B4\",\"E13\")\n",
    "[lss,axs] = getpoints((ls_low,ax_low),(ls_high,ax_high+1)) # returns integer locations on line\n",
    "# fill from val to high_ls, ax-1 to ax\n",
    "for i in np.arange(1,len(lss)):\n",
    "    if axs[i]<3000:\n",
    "        new_ax[lss[i]:ls_high,axs[i-1]:axs[i]]=128\n",
    "        \n",
    "\n",
    "plt.figure(figsize=(20,10))\n",
    "plt.imshow(new_ax/255)\n",
    "plt.scatter(new_csv.ax_new_guess/100, new_csv.ls_guess/100)"
   ]
  },
  {
   "cell_type": "code",
   "execution_count": 385,
   "id": "8d343685",
   "metadata": {},
   "outputs": [],
   "source": [
    "now = datetime.now()\n",
    "ls_tif_filestring = \"../../../rig_ax_mult_\"+now.strftime(\"%Y%m%d\")+\".tif\"\n",
    "tif.imsave(ls_tif_filestring,new_ax.astype('uint8'),photometric='rgb')"
   ]
  },
  {
   "cell_type": "code",
   "execution_count": null,
   "id": "13395ea8",
   "metadata": {},
   "outputs": [],
   "source": []
  },
  {
   "cell_type": "code",
   "execution_count": null,
   "id": "70b15f79",
   "metadata": {},
   "outputs": [],
   "source": []
  },
  {
   "cell_type": "code",
   "execution_count": null,
   "id": "f55d5597",
   "metadata": {},
   "outputs": [],
   "source": []
  },
  {
   "cell_type": "code",
   "execution_count": null,
   "id": "5b9d5d55",
   "metadata": {},
   "outputs": [],
   "source": []
  },
  {
   "cell_type": "markdown",
   "id": "ea5a5e26",
   "metadata": {},
   "source": [
    "# Procedure"
   ]
  },
  {
   "cell_type": "markdown",
   "id": "24d46195",
   "metadata": {},
   "source": [
    "## How I got the values for centers"
   ]
  },
  {
   "cell_type": "code",
   "execution_count": 2,
   "id": "c9d791d0",
   "metadata": {},
   "outputs": [],
   "source": [
    "# ask user for two points: E13 bottom point and M1 top point\n",
    "# generate centers, plot\n",
    "# format as spreadsheet with appropriate labels"
   ]
  },
  {
   "cell_type": "code",
   "execution_count": 3,
   "id": "3cc72b02",
   "metadata": {},
   "outputs": [],
   "source": [
    "# Emily playing around today:\n",
    "# try to generate all points, find median for each tile?"
   ]
  },
  {
   "cell_type": "code",
   "execution_count": 4,
   "id": "6adb9d11",
   "metadata": {},
   "outputs": [],
   "source": [
    "L1 = [(219000,56600),(223000,64600),(231600,65200),(236600,58000),(233400,50100),(224200,49400)]\n",
    "L1x = [val[0] for val in L1]\n",
    "L1y = [val[1] for val in L1]\n",
    "L1c = (np.median(L1x),np.median(L1y))"
   ]
  },
  {
   "cell_type": "code",
   "execution_count": 5,
   "id": "50440dc5",
   "metadata": {},
   "outputs": [
    {
     "name": "stdout",
     "output_type": "stream",
     "text": [
      "-2000 21200\n"
     ]
    }
   ],
   "source": [
    "M1x = [238800]\n",
    "M1y = [47200]\n",
    "ls_row_offset = 252400-254400\n",
    "ax_row_offset = 91400-70200\n",
    "print(ls_row_offset,ax_row_offset)"
   ]
  },
  {
   "cell_type": "code",
   "execution_count": 6,
   "id": "1e564fe2",
   "metadata": {},
   "outputs": [
    {
     "data": {
      "text/plain": [
       "<matplotlib.collections.PathCollection at 0x188b5302bb0>"
      ]
     },
     "execution_count": 6,
     "metadata": {},
     "output_type": "execute_result"
    },
    {
     "data": {
      "image/png": "[encoded data removed]",
      "text/plain": [
       "<Figure size 432x288 with 1 Axes>"
      ]
     },
     "metadata": {
      "needs_background": "light"
     },
     "output_type": "display_data"
    }
   ],
   "source": [
    "figure,axes= plt.subplots()\n",
    "plt.scatter(L1y,L1x)\n",
    "plt.scatter(L1c[1],L1c[0])\n",
    "#axes.add_artist(patches.Circle((L1c[1],L1c[0]),radius=5500))\n",
    "axes.set_aspect(1)\n",
    "plt.scatter(L1y[0],L1x[0],c='r')\n",
    "plt.scatter(L1y[3],L1x[3],c='k')\n",
    "plt.scatter(L1c[1]+ax_row_offset,L1c[0]+ls_row_offset,color='cyan')\n",
    "\n",
    "plt.scatter(L1c[1]+2*ax_row_offset,L1c[0]+2*ls_row_offset,color='cyan')\n",
    "#plt.scatter(M_ax_cs[0:4],M_ls_cs[0:4],c='g')"
   ]
  },
  {
   "cell_type": "code",
   "execution_count": 7,
   "id": "8a9a3800",
   "metadata": {},
   "outputs": [
    {
     "name": "stdout",
     "output_type": "stream",
     "text": [
      "57300.0\n",
      "227900.0\n"
     ]
    },
    {
     "data": {
      "text/plain": [
       "(227900.0, 57300.0)"
      ]
     },
     "execution_count": 7,
     "metadata": {},
     "output_type": "execute_result"
    }
   ],
   "source": [
    "print(np.median([L1y[0],L1y[3]]))\n",
    "print(np.median([L1x[0],L1x[3]])+100)\n",
    "L1c"
   ]
  },
  {
   "cell_type": "code",
   "execution_count": 8,
   "id": "aa1aa34d",
   "metadata": {},
   "outputs": [
    {
     "name": "stdout",
     "output_type": "stream",
     "text": [
      "219000 56600\n",
      "236600 58000\n"
     ]
    }
   ],
   "source": [
    "print(L1x[0],L1y[0])\n",
    "print(L1x[3],L1y[3])"
   ]
  },
  {
   "cell_type": "code",
   "execution_count": 9,
   "id": "ec0b5665",
   "metadata": {},
   "outputs": [
    {
     "name": "stdout",
     "output_type": "stream",
     "text": [
      "17800 1400\n"
     ]
    }
   ],
   "source": [
    "top_x_to_bottom_offset = L1x[3]-L1x[0]+200\n",
    "top_y_to_bottom_offset = L1y[3]-L1y[0]\n",
    "\n",
    "print(top_x_to_bottom_offset,top_y_to_bottom_offset)"
   ]
  },
  {
   "cell_type": "code",
   "execution_count": 10,
   "id": "73ff2f06",
   "metadata": {},
   "outputs": [
    {
     "name": "stdout",
     "output_type": "stream",
     "text": [
      "236800 58000\n",
      "227900.0\n",
      "57300.0\n"
     ]
    }
   ],
   "source": [
    "x=219000+top_x_to_bottom_offset\n",
    "y=56600+top_y_to_bottom_offset\n",
    "print(x,y)\n",
    "print(np.median([219000,x]))\n",
    "print(np.median([56600,y]))"
   ]
  },
  {
   "cell_type": "code",
   "execution_count": 11,
   "id": "164feef3",
   "metadata": {},
   "outputs": [
    {
     "data": {
      "text/plain": [
       "[8900, 700]"
      ]
     },
     "execution_count": 11,
     "metadata": {},
     "output_type": "execute_result"
    }
   ],
   "source": [
    "# middle val = top + offset\n",
    "# middle - top = offset\n",
    "middle_from_0_offset = [227900-219000,57300-56600]\n",
    "middle_from_0_offset"
   ]
  },
  {
   "cell_type": "code",
   "execution_count": 12,
   "id": "19ba55fd",
   "metadata": {},
   "outputs": [
    {
     "name": "stdout",
     "output_type": "stream",
     "text": [
      "[238800, 47200]\n",
      "[247700, 47900]\n",
      "[8900, 700]\n"
     ]
    }
   ],
   "source": [
    "M1 = [M1x[0],M1y[0]]\n",
    "print(M1)\n",
    "M1c=[M1[0] + middle_from_0_offset[0],M1[1]+middle_from_0_offset[1]]\n",
    "print(M1c)\n",
    "print(middle_from_0_offset)"
   ]
  },
  {
   "cell_type": "code",
   "execution_count": 13,
   "id": "d057f9f0",
   "metadata": {},
   "outputs": [
    {
     "data": {
      "text/plain": [
       "<matplotlib.collections.PathCollection at 0x188b7437bb0>"
      ]
     },
     "execution_count": 13,
     "metadata": {},
     "output_type": "execute_result"
    },
    {
     "data": {
      "image/png": "[encoded data removed]",
      "text/plain": [
       "<Figure size 432x288 with 1 Axes>"
      ]
     },
     "metadata": {
      "needs_background": "light"
     },
     "output_type": "display_data"
    }
   ],
   "source": [
    "figure,axes= plt.subplots()\n",
    "plt.scatter(L1y,L1x)\n",
    "plt.scatter(L1c[1],L1c[0])\n",
    "#axes.add_artist(patches.Circle((L1c[1],L1c[0]),radius=5500))\n",
    "axes.set_aspect(1)\n",
    "plt.scatter(L1y[0],L1x[0],c='r')\n",
    "plt.scatter(L1y[3],L1x[3],c='k')\n",
    "plt.scatter(L1c[1]+ax_row_offset,L1c[0]+ls_row_offset,color='cyan')\n",
    "\n",
    "plt.scatter(L1c[1]+2*ax_row_offset,L1c[0]+2*ls_row_offset,color='cyan')\n",
    "plt.scatter(M1c[1],M1c[0],c='g')\n",
    "plt.scatter(M1[1],M1[0],c='g')\n",
    "plt.scatter(M1c[1]+middle_from_0_offset[1],M1c[0]+middle_from_0_offset[0],c='g')"
   ]
  },
  {
   "cell_type": "code",
   "execution_count": 14,
   "id": "7752ccc5",
   "metadata": {},
   "outputs": [],
   "source": [
    "# make centers map first\n",
    "# then generate points from there \n",
    "# points from center:"
   ]
  },
  {
   "cell_type": "code",
   "execution_count": 15,
   "id": "79a1f913",
   "metadata": {},
   "outputs": [],
   "source": [
    "xval_offsets=L1x-L1c[0]"
   ]
  },
  {
   "cell_type": "code",
   "execution_count": 16,
   "id": "346cfd44",
   "metadata": {},
   "outputs": [],
   "source": [
    "yval_offsets=L1y-L1c[1]"
   ]
  },
  {
   "cell_type": "code",
   "execution_count": 17,
   "id": "009cce93",
   "metadata": {},
   "outputs": [
    {
     "data": {
      "text/plain": [
       "<matplotlib.collections.PathCollection at 0x188b74b3bb0>"
      ]
     },
     "execution_count": 17,
     "metadata": {},
     "output_type": "execute_result"
    },
    {
     "data": {
      "image/png": "[encoded data removed]",
      "text/plain": [
       "<Figure size 432x288 with 1 Axes>"
      ]
     },
     "metadata": {
      "needs_background": "light"
     },
     "output_type": "display_data"
    }
   ],
   "source": [
    "# confirm that our offsets + centers = corner points\n",
    "plt.scatter(yval_offsets+L1c[1],xval_offsets+L1c[0])\n",
    "plt.scatter(L1c[1],L1c[0])\n",
    "plt.scatter(L1y,L1x)"
   ]
  },
  {
   "cell_type": "code",
   "execution_count": 18,
   "id": "77aef188",
   "metadata": {},
   "outputs": [
    {
     "name": "stdout",
     "output_type": "stream",
     "text": [
      "[238800, 47200]\n",
      "[247700, 47900]\n",
      "[237000, 68800]\n"
     ]
    }
   ],
   "source": [
    "M1top=M1\n",
    "print(M1top)\n",
    "print(M1c)\n",
    "M2top = [237000,68800]\n",
    "print(M2top)\n",
    "M2c_from_top = [M2top[0]+middle_from_0_offset[0],M2top[1]+middle_from_0_offset[1]]"
   ]
  },
  {
   "cell_type": "code",
   "execution_count": 91,
   "id": "cfdf35b3",
   "metadata": {},
   "outputs": [
    {
     "data": {
      "text/plain": [
       "(-1800, 21600)"
      ]
     },
     "execution_count": 91,
     "metadata": {},
     "output_type": "execute_result"
    }
   ],
   "source": [
    "# now get offset between tiles in same row\n",
    "row_ls_within= M2top[0]-M1top[0]\n",
    "row_ax_within = M2top[1]-M1top[1]\n",
    "row_ls_within,row_ax_within #M1 + row__within = M2"
   ]
  },
  {
   "cell_type": "code",
   "execution_count": 93,
   "id": "2ddccb6b",
   "metadata": {},
   "outputs": [
    {
     "name": "stdout",
     "output_type": "stream",
     "text": [
      "245900 69500\n",
      "[245900, 69500]\n"
     ]
    }
   ],
   "source": [
    "print(M1c[0]+row_ls_within,M1c[1]+row_ax_within)\n",
    "print(M2c_from_top)"
   ]
  },
  {
   "cell_type": "code",
   "execution_count": 25,
   "id": "0deab73f",
   "metadata": {},
   "outputs": [
    {
     "name": "stdout",
     "output_type": "stream",
     "text": [
      "[-2300, -1800, -1800, -1800, -2000, -2200, -1500, -1900] [21400, 21300, 21400, 21400, 21400, 21500, 21100, 21400]\n"
     ]
    }
   ],
   "source": [
    "# D row:\n",
    "Dls = [84500,82200,80400,78600,76800,74800,72600,71100,69200] #from D2 to D10\n",
    "Daxs = [88500,109900,131200,152600,174000,195400,216900,238000,259400] # from D2-D10\n",
    "delta_ls = []\n",
    "delta_ax = []\n",
    "for i in np.arange(0,8):\n",
    "    delta_ls.append(Dls[i+1] - Dls[i])\n",
    "    delta_ax.append(Daxs[i+1] - Daxs[i])\n",
    "print(delta_ls,delta_ax)"
   ]
  },
  {
   "cell_type": "code",
   "execution_count": 27,
   "id": "bd8d9789",
   "metadata": {},
   "outputs": [
    {
     "name": "stdout",
     "output_type": "stream",
     "text": [
      "-1912.5 21362.5\n",
      "-1850.0 21400.0\n"
     ]
    }
   ],
   "source": [
    "print(np.mean(delta_ls),np.mean(delta_ax))\n",
    "print(np.median(delta_ls),np.median(delta_ax))"
   ]
  },
  {
   "cell_type": "code",
   "execution_count": 47,
   "id": "be05fce3",
   "metadata": {},
   "outputs": [
    {
     "name": "stdout",
     "output_type": "stream",
     "text": [
      "L1 to M2, 1\n",
      "[17400, 17800, 17200, 17600, 17600, 17800, 17400, 17600, 17700]\n",
      "[12100, 12300, 12100, 12200, 12200, 12200, 12100, 12300, 12200]\n",
      "17566.666666666668 12188.888888888889\n",
      "17600.0 12200.0\n",
      "M1 to L1, 0\n",
      "[-19400, -19800, -19600, -19400, -19500, -19500, -19400, -19500, -19500, -19500]\n",
      "[9200, 9200, 6200, 12200, 9000, 9200, 9200, 9400, 9000, 9300]\n",
      "-19510.0 9190.0\n",
      "-19500.0 9200.0\n"
     ]
    },
    {
     "data": {
      "image/png": "[encoded data removed]",
      "text/plain": [
       "<Figure size 432x288 with 1 Axes>"
      ]
     },
     "metadata": {
      "needs_background": "light"
     },
     "output_type": "display_data"
    }
   ],
   "source": [
    "#L1_to_M2\n",
    "ls_vals = [84500,101900,119700,136900,154500,172100,189900,207300,224900,242600]\n",
    "ax_vals = [88500,100600,112900,125000,137200,149400,161600,173700,186000,198200]\n",
    "plt.plot(ls_vals,ax_vals)\n",
    "delta_ls=[]\n",
    "delta_ax=[]\n",
    "for i in np.arange(0,len(ls_vals)-1):\n",
    "    delta_ls.append(ls_vals[i+1] - ls_vals[i])\n",
    "    delta_ax.append(ax_vals[i+1] - ax_vals[i])\n",
    "    \n",
    "print('L1 to M2, 1')\n",
    "print(delta_ls)\n",
    "print(delta_ax)\n",
    "print(np.mean(delta_ls),np.mean(delta_ax))\n",
    "print(np.median(delta_ls),np.median(delta_ax))\n",
    "\n",
    "\n",
    "ls_vals = [281800,262400,242600,223000,203600,184100,164600,145200,125700,106200,86700]\n",
    "ax_vals = [179800,189000,198200,204400,216600,225600,234800,244000,253400,262400,271700]\n",
    "plt.plot(ls_vals,ax_vals)\n",
    "delta_ls=[]\n",
    "delta_ax=[]\n",
    "for i in np.arange(0,len(ls_vals)-1):\n",
    "    delta_ls.append(ls_vals[i+1] - ls_vals[i])\n",
    "    delta_ax.append(ax_vals[i+1] - ax_vals[i])\n",
    "\n",
    "print('M1 to L1, 0')\n",
    "print(delta_ls)\n",
    "print(delta_ax)\n",
    "print(np.mean(delta_ls),np.mean(delta_ax))\n",
    "print(np.median(delta_ls),np.median(delta_ax))\n"
   ]
  },
  {
   "cell_type": "code",
   "execution_count": 103,
   "id": "92310f54",
   "metadata": {},
   "outputs": [
    {
     "name": "stdout",
     "output_type": "stream",
     "text": [
      "[-19800, 9400] [18000, 12200]\n",
      "245900.0 69500.0\n",
      "[245900, 69500]\n",
      "227900 57300\n",
      "(227900.0, 57300.0)\n"
     ]
    }
   ],
   "source": [
    "#checking things work in both directions\n",
    "M1_to_L1_offset = [219000-238800,56600-47200]\n",
    "L1_to_M2_offset = [237000-219000,68800-56600]\n",
    "print(M1_to_L1_offset,L1_to_M2_offset)\n",
    "print(L1c[0]+L1_to_M2_offset[0],L1c[1]+L1_to_M2_offset[1])\n",
    "print(M2c_from_top)\n",
    "print(M1c[0]+M1_to_L1_offset[0],M1c[1]+M1_to_L1_offset[1])\n",
    "print(L1c)"
   ]
  }
 ],
 "metadata": {
  "kernelspec": {
   "display_name": "Python 3 (ipykernel)",
   "language": "python",
   "name": "python3"
  },
  "language_info": {
   "codemirror_mode": {
    "name": "ipython",
    "version": 3
   },
   "file_extension": ".py",
   "mimetype": "text/x-python",
   "name": "python",
   "nbconvert_exporter": "python",
   "pygments_lexer": "ipython3",
   "version": "3.9.7"
  }
 },
 "nbformat": 4,
 "nbformat_minor": 5
}
