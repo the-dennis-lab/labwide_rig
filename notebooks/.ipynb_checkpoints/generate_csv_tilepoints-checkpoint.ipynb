{
 "cells": [
  {
   "cell_type": "markdown",
   "id": "5c547df6",
   "metadata": {},
   "source": [
    "# Purpose\n",
    "Goal is to use a few input points to generate all the Zaber coordinates (and then mm coordinates) for the tile centers and produce a csv for use in Bonsai. Also, it would be nice to get all the tile pole locations for making simulations (making hexes, etc.)"
   ]
  },
  {
   "cell_type": "markdown",
   "id": "2f9968dd",
   "metadata": {},
   "source": [
    "# imports"
   ]
  },
  {
   "cell_type": "code",
   "execution_count": 100,
   "id": "8807f3ba",
   "metadata": {},
   "outputs": [],
   "source": [
    "import os, sys, math\n",
    "from datetime import datetime\n",
    "import numpy as np\n",
    "import matplotlib.pyplot as plt\n",
    "import matplotlib.patches as patches\n",
    "import pandas as pd"
   ]
  },
  {
   "cell_type": "code",
   "execution_count": 2,
   "id": "c9d791d0",
   "metadata": {},
   "outputs": [],
   "source": [
    "# ask user for two points: E13 bottom point and M1 top point\n",
    "# generate centers, plot\n",
    "# format as spreadsheet with appropriate labels"
   ]
  },
  {
   "cell_type": "code",
   "execution_count": 3,
   "id": "3cc72b02",
   "metadata": {},
   "outputs": [],
   "source": [
    "# Emily playing around today:\n",
    "# try to generate all points, find median for each tile?"
   ]
  },
  {
   "cell_type": "code",
   "execution_count": 4,
   "id": "6adb9d11",
   "metadata": {},
   "outputs": [],
   "source": [
    "L1 = [(219000,56600),(223000,64600),(231600,65200),(236600,58000),(233400,50100),(224200,49400)]\n",
    "L1x = [val[0] for val in L1]\n",
    "L1y = [val[1] for val in L1]\n",
    "L1c = (np.median(L1x),np.median(L1y))"
   ]
  },
  {
   "cell_type": "code",
   "execution_count": 5,
   "id": "50440dc5",
   "metadata": {},
   "outputs": [
    {
     "name": "stdout",
     "output_type": "stream",
     "text": [
      "-2000 21200\n"
     ]
    }
   ],
   "source": [
    "M1x = [238800]\n",
    "M1y = [47200]\n",
    "ls_row_offset = 252400-254400\n",
    "ax_row_offset = 91400-70200\n",
    "print(ls_row_offset,ax_row_offset)"
   ]
  },
  {
   "cell_type": "code",
   "execution_count": 6,
   "id": "1e564fe2",
   "metadata": {},
   "outputs": [
    {
     "data": {
      "text/plain": [
       "<matplotlib.collections.PathCollection at 0x188b5302bb0>"
      ]
     },
     "execution_count": 6,
     "metadata": {},
     "output_type": "execute_result"
    },
    {
     "data": {
      "image/png": "[encoded data removed]",
      "text/plain": [
       "<Figure size 432x288 with 1 Axes>"
      ]
     },
     "metadata": {
      "needs_background": "light"
     },
     "output_type": "display_data"
    }
   ],
   "source": [
    "figure,axes= plt.subplots()\n",
    "plt.scatter(L1y,L1x)\n",
    "plt.scatter(L1c[1],L1c[0])\n",
    "#axes.add_artist(patches.Circle((L1c[1],L1c[0]),radius=5500))\n",
    "axes.set_aspect(1)\n",
    "plt.scatter(L1y[0],L1x[0],c='r')\n",
    "plt.scatter(L1y[3],L1x[3],c='k')\n",
    "plt.scatter(L1c[1]+ax_row_offset,L1c[0]+ls_row_offset,color='cyan')\n",
    "\n",
    "plt.scatter(L1c[1]+2*ax_row_offset,L1c[0]+2*ls_row_offset,color='cyan')\n",
    "#plt.scatter(M_ax_cs[0:4],M_ls_cs[0:4],c='g')"
   ]
  },
  {
   "cell_type": "code",
   "execution_count": 7,
   "id": "8a9a3800",
   "metadata": {},
   "outputs": [
    {
     "name": "stdout",
     "output_type": "stream",
     "text": [
      "57300.0\n",
      "227900.0\n"
     ]
    },
    {
     "data": {
      "text/plain": [
       "(227900.0, 57300.0)"
      ]
     },
     "execution_count": 7,
     "metadata": {},
     "output_type": "execute_result"
    }
   ],
   "source": [
    "print(np.median([L1y[0],L1y[3]]))\n",
    "print(np.median([L1x[0],L1x[3]])+100)\n",
    "L1c"
   ]
  },
  {
   "cell_type": "code",
   "execution_count": 8,
   "id": "aa1aa34d",
   "metadata": {},
   "outputs": [
    {
     "name": "stdout",
     "output_type": "stream",
     "text": [
      "219000 56600\n",
      "236600 58000\n"
     ]
    }
   ],
   "source": [
    "print(L1x[0],L1y[0])\n",
    "print(L1x[3],L1y[3])"
   ]
  },
  {
   "cell_type": "code",
   "execution_count": 9,
   "id": "ec0b5665",
   "metadata": {},
   "outputs": [
    {
     "name": "stdout",
     "output_type": "stream",
     "text": [
      "17800 1400\n"
     ]
    }
   ],
   "source": [
    "top_x_to_bottom_offset = L1x[3]-L1x[0]+200\n",
    "top_y_to_bottom_offset = L1y[3]-L1y[0]\n",
    "\n",
    "print(top_x_to_bottom_offset,top_y_to_bottom_offset)"
   ]
  },
  {
   "cell_type": "code",
   "execution_count": 10,
   "id": "73ff2f06",
   "metadata": {},
   "outputs": [
    {
     "name": "stdout",
     "output_type": "stream",
     "text": [
      "236800 58000\n",
      "227900.0\n",
      "57300.0\n"
     ]
    }
   ],
   "source": [
    "x=219000+top_x_to_bottom_offset\n",
    "y=56600+top_y_to_bottom_offset\n",
    "print(x,y)\n",
    "print(np.median([219000,x]))\n",
    "print(np.median([56600,y]))"
   ]
  },
  {
   "cell_type": "code",
   "execution_count": 11,
   "id": "164feef3",
   "metadata": {},
   "outputs": [
    {
     "data": {
      "text/plain": [
       "[8900, 700]"
      ]
     },
     "execution_count": 11,
     "metadata": {},
     "output_type": "execute_result"
    }
   ],
   "source": [
    "# middle val = top + offset\n",
    "# middle - top = offset\n",
    "middle_from_0_offset = [227900-219000,57300-56600]\n",
    "middle_from_0_offset"
   ]
  },
  {
   "cell_type": "code",
   "execution_count": 12,
   "id": "19ba55fd",
   "metadata": {},
   "outputs": [
    {
     "name": "stdout",
     "output_type": "stream",
     "text": [
      "[238800, 47200]\n",
      "[247700, 47900]\n",
      "[8900, 700]\n"
     ]
    }
   ],
   "source": [
    "M1 = [M1x[0],M1y[0]]\n",
    "print(M1)\n",
    "M1c=[M1[0] + middle_from_0_offset[0],M1[1]+middle_from_0_offset[1]]\n",
    "print(M1c)\n",
    "print(middle_from_0_offset)"
   ]
  },
  {
   "cell_type": "code",
   "execution_count": 13,
   "id": "d057f9f0",
   "metadata": {},
   "outputs": [
    {
     "data": {
      "text/plain": [
       "<matplotlib.collections.PathCollection at 0x188b7437bb0>"
      ]
     },
     "execution_count": 13,
     "metadata": {},
     "output_type": "execute_result"
    },
    {
     "data": {
      "image/png": "[encoded data removed]",
      "text/plain": [
       "<Figure size 432x288 with 1 Axes>"
      ]
     },
     "metadata": {
      "needs_background": "light"
     },
     "output_type": "display_data"
    }
   ],
   "source": [
    "figure,axes= plt.subplots()\n",
    "plt.scatter(L1y,L1x)\n",
    "plt.scatter(L1c[1],L1c[0])\n",
    "#axes.add_artist(patches.Circle((L1c[1],L1c[0]),radius=5500))\n",
    "axes.set_aspect(1)\n",
    "plt.scatter(L1y[0],L1x[0],c='r')\n",
    "plt.scatter(L1y[3],L1x[3],c='k')\n",
    "plt.scatter(L1c[1]+ax_row_offset,L1c[0]+ls_row_offset,color='cyan')\n",
    "\n",
    "plt.scatter(L1c[1]+2*ax_row_offset,L1c[0]+2*ls_row_offset,color='cyan')\n",
    "plt.scatter(M1c[1],M1c[0],c='g')\n",
    "plt.scatter(M1[1],M1[0],c='g')\n",
    "plt.scatter(M1c[1]+middle_from_0_offset[1],M1c[0]+middle_from_0_offset[0],c='g')"
   ]
  },
  {
   "cell_type": "code",
   "execution_count": 14,
   "id": "7752ccc5",
   "metadata": {},
   "outputs": [],
   "source": [
    "# make centers map first\n",
    "# then generate points from there \n",
    "# points from center:"
   ]
  },
  {
   "cell_type": "code",
   "execution_count": 15,
   "id": "79a1f913",
   "metadata": {},
   "outputs": [],
   "source": [
    "xval_offsets=L1x-L1c[0]"
   ]
  },
  {
   "cell_type": "code",
   "execution_count": 16,
   "id": "346cfd44",
   "metadata": {},
   "outputs": [],
   "source": [
    "yval_offsets=L1y-L1c[1]"
   ]
  },
  {
   "cell_type": "code",
   "execution_count": 17,
   "id": "009cce93",
   "metadata": {},
   "outputs": [
    {
     "data": {
      "text/plain": [
       "<matplotlib.collections.PathCollection at 0x188b74b3bb0>"
      ]
     },
     "execution_count": 17,
     "metadata": {},
     "output_type": "execute_result"
    },
    {
     "data": {
      "image/png": "[encoded data removed]",
      "text/plain": [
       "<Figure size 432x288 with 1 Axes>"
      ]
     },
     "metadata": {
      "needs_background": "light"
     },
     "output_type": "display_data"
    }
   ],
   "source": [
    "# confirm that our offsets + centers = corner points\n",
    "plt.scatter(yval_offsets+L1c[1],xval_offsets+L1c[0])\n",
    "plt.scatter(L1c[1],L1c[0])\n",
    "plt.scatter(L1y,L1x)"
   ]
  },
  {
   "cell_type": "code",
   "execution_count": 18,
   "id": "77aef188",
   "metadata": {},
   "outputs": [
    {
     "name": "stdout",
     "output_type": "stream",
     "text": [
      "[238800, 47200]\n",
      "[247700, 47900]\n",
      "[237000, 68800]\n"
     ]
    }
   ],
   "source": [
    "M1top=M1\n",
    "print(M1top)\n",
    "print(M1c)\n",
    "M2top = [237000,68800]\n",
    "print(M2top)\n",
    "M2c_from_top = [M2top[0]+middle_from_0_offset[0],M2top[1]+middle_from_0_offset[1]]"
   ]
  },
  {
   "cell_type": "code",
   "execution_count": 91,
   "id": "cfdf35b3",
   "metadata": {},
   "outputs": [
    {
     "data": {
      "text/plain": [
       "(-1800, 21600)"
      ]
     },
     "execution_count": 91,
     "metadata": {},
     "output_type": "execute_result"
    }
   ],
   "source": [
    "# now get offset between tiles in same row\n",
    "row_ls_within= M2top[0]-M1top[0]\n",
    "row_ax_within = M2top[1]-M1top[1]\n",
    "row_ls_within,row_ax_within #M1 + row__within = M2"
   ]
  },
  {
   "cell_type": "code",
   "execution_count": 93,
   "id": "2ddccb6b",
   "metadata": {},
   "outputs": [
    {
     "name": "stdout",
     "output_type": "stream",
     "text": [
      "245900 69500\n",
      "[245900, 69500]\n"
     ]
    }
   ],
   "source": [
    "print(M1c[0]+row_ls_within,M1c[1]+row_ax_within)\n",
    "print(M2c_from_top)"
   ]
  },
  {
   "cell_type": "code",
   "execution_count": 25,
   "id": "0deab73f",
   "metadata": {},
   "outputs": [
    {
     "name": "stdout",
     "output_type": "stream",
     "text": [
      "[-2300, -1800, -1800, -1800, -2000, -2200, -1500, -1900] [21400, 21300, 21400, 21400, 21400, 21500, 21100, 21400]\n"
     ]
    }
   ],
   "source": [
    "# D row:\n",
    "Dls = [84500,82200,80400,78600,76800,74800,72600,71100,69200] #from D2 to D10\n",
    "Daxs = [88500,109900,131200,152600,174000,195400,216900,238000,259400] # from D2-D10\n",
    "delta_ls = []\n",
    "delta_ax = []\n",
    "for i in np.arange(0,8):\n",
    "    delta_ls.append(Dls[i+1] - Dls[i])\n",
    "    delta_ax.append(Daxs[i+1] - Daxs[i])\n",
    "print(delta_ls,delta_ax)"
   ]
  },
  {
   "cell_type": "code",
   "execution_count": 27,
   "id": "bd8d9789",
   "metadata": {},
   "outputs": [
    {
     "name": "stdout",
     "output_type": "stream",
     "text": [
      "-1912.5 21362.5\n",
      "-1850.0 21400.0\n"
     ]
    }
   ],
   "source": [
    "print(np.mean(delta_ls),np.mean(delta_ax))\n",
    "print(np.median(delta_ls),np.median(delta_ax))"
   ]
  },
  {
   "cell_type": "code",
   "execution_count": 47,
   "id": "be05fce3",
   "metadata": {},
   "outputs": [
    {
     "name": "stdout",
     "output_type": "stream",
     "text": [
      "L1 to M2, 1\n",
      "[17400, 17800, 17200, 17600, 17600, 17800, 17400, 17600, 17700]\n",
      "[12100, 12300, 12100, 12200, 12200, 12200, 12100, 12300, 12200]\n",
      "17566.666666666668 12188.888888888889\n",
      "17600.0 12200.0\n",
      "M1 to L1, 0\n",
      "[-19400, -19800, -19600, -19400, -19500, -19500, -19400, -19500, -19500, -19500]\n",
      "[9200, 9200, 6200, 12200, 9000, 9200, 9200, 9400, 9000, 9300]\n",
      "-19510.0 9190.0\n",
      "-19500.0 9200.0\n"
     ]
    },
    {
     "data": {
      "image/png": "[encoded data removed]",
      "text/plain": [
       "<Figure size 432x288 with 1 Axes>"
      ]
     },
     "metadata": {
      "needs_background": "light"
     },
     "output_type": "display_data"
    }
   ],
   "source": [
    "#L1_to_M2\n",
    "ls_vals = [84500,101900,119700,136900,154500,172100,189900,207300,224900,242600]\n",
    "ax_vals = [88500,100600,112900,125000,137200,149400,161600,173700,186000,198200]\n",
    "plt.plot(ls_vals,ax_vals)\n",
    "delta_ls=[]\n",
    "delta_ax=[]\n",
    "for i in np.arange(0,len(ls_vals)-1):\n",
    "    delta_ls.append(ls_vals[i+1] - ls_vals[i])\n",
    "    delta_ax.append(ax_vals[i+1] - ax_vals[i])\n",
    "    \n",
    "print('L1 to M2, 1')\n",
    "print(delta_ls)\n",
    "print(delta_ax)\n",
    "print(np.mean(delta_ls),np.mean(delta_ax))\n",
    "print(np.median(delta_ls),np.median(delta_ax))\n",
    "\n",
    "\n",
    "ls_vals = [281800,262400,242600,223000,203600,184100,164600,145200,125700,106200,86700]\n",
    "ax_vals = [179800,189000,198200,204400,216600,225600,234800,244000,253400,262400,271700]\n",
    "plt.plot(ls_vals,ax_vals)\n",
    "delta_ls=[]\n",
    "delta_ax=[]\n",
    "for i in np.arange(0,len(ls_vals)-1):\n",
    "    delta_ls.append(ls_vals[i+1] - ls_vals[i])\n",
    "    delta_ax.append(ax_vals[i+1] - ax_vals[i])\n",
    "\n",
    "print('M1 to L1, 0')\n",
    "print(delta_ls)\n",
    "print(delta_ax)\n",
    "print(np.mean(delta_ls),np.mean(delta_ax))\n",
    "print(np.median(delta_ls),np.median(delta_ax))\n"
   ]
  },
  {
   "cell_type": "code",
   "execution_count": 32,
   "id": "9581d9eb",
   "metadata": {},
   "outputs": [],
   "source": [
    "def get_row_vals(centers,index_of_centers,length_of_row):\n",
    "    ''' function to auto-generate row values from a single center val\n",
    "    INPUTS:\n",
    "        1. centers: a tuple or list of center values for a tile in Zaber units (e.g. ls = 238800, ax=47200 the input would be [238800,47200] or (238800,47200))\n",
    "        2. index_of_centers: an integer indicating which tile value you're inputting (e.g. M1 = element 0, M2 = element 1... etc)\n",
    "        3. length_of_row: an integer indicating how many tiles in the row (e.g. 1 if A, 4 if B... 13 if M... 1 if Q)\n",
    "    OUTPUTS:\n",
    "        two lists ls_row_vals and ax_row_vals\n",
    "    EXAMPLE:\n",
    "        M1c = (230100, 46500)\n",
    "        M_ls_cs,M_ax_cs = get_row_vals(M1c,0,13)\n",
    "        print(M_ls_cs)\n",
    "        print(M_ax_cs)\n",
    "        > [230100, 228100, 226100, 224100, 222100, 220100, 218100, 216100, 214100, 212100, 210100, 208100, 206100]\n",
    "        > [46500, 67700, 88900, 110100, 131300, 152500, 173700, 194900, 216100, 237300, 258500, 279700, 300900]\n",
    "        \n",
    "    NOTE: if you have K2c, try\n",
    "        K_ls_cs, K_ax_cs = get_row_vals(K2c,1,13) because K2 is the 1st element in the list of K tile values from 1-13\n",
    "    '''\n",
    "    ls_row_offset = -1900\n",
    "    ax_row_offset= 21400\n",
    "    print('using ls_row_offset of {} and ax_row_offset of {}'.format(ls_row_offset,ax_row_offset))\n",
    "    ls = centers[0]\n",
    "    ax = centers[1]\n",
    "    ls_row_vals=[]\n",
    "    ax_row_vals=[]\n",
    "    for i in np.arange(0-index_of_centers,length_of_row-index_of_centers):\n",
    "        ls_row_vals.append(ls+i*ls_row_offset)\n",
    "        ax_row_vals.append(ax+i*ax_row_offset)\n",
    "    return ls_row_vals, ax_row_vals"
   ]
  },
  {
   "cell_type": "code",
   "execution_count": 103,
   "id": "92310f54",
   "metadata": {},
   "outputs": [
    {
     "name": "stdout",
     "output_type": "stream",
     "text": [
      "[-19800, 9400] [18000, 12200]\n",
      "245900.0 69500.0\n",
      "[245900, 69500]\n",
      "227900 57300\n",
      "(227900.0, 57300.0)\n"
     ]
    }
   ],
   "source": [
    "#checking things work in both directions\n",
    "M1_to_L1_offset = [219000-238800,56600-47200]\n",
    "L1_to_M2_offset = [237000-219000,68800-56600]\n",
    "print(M1_to_L1_offset,L1_to_M2_offset)\n",
    "print(L1c[0]+L1_to_M2_offset[0],L1c[1]+L1_to_M2_offset[1])\n",
    "print(M2c_from_top)\n",
    "print(M1c[0]+M1_to_L1_offset[0],M1c[1]+M1_to_L1_offset[1])\n",
    "print(L1c)"
   ]
  },
  {
   "cell_type": "code",
   "execution_count": 49,
   "id": "cbd5984e",
   "metadata": {},
   "outputs": [],
   "source": [
    "def get_neighbor_tile(centers,direction):\n",
    "    ''' INPUTS\n",
    "        1. centers: a tuple or list of center values for a tile in Zaber units (e.g. ls = 238800, ax=47200 the input would be [238800,47200] or (238800,47200))\n",
    "        2. direction: an int, either 0 for above right or 1 for below right (e.g. to get M2 from L2, use 1. to get L1 from M1, use 0)\n",
    "        \n",
    "        TODO later I should make this more flexible and harder to mess up\n",
    "        OUTPUTS:\n",
    "        1. new list with the center values in [ls,ax]\n",
    "    '''\n",
    "    ls = centers[0]\n",
    "    ax = centers[1]\n",
    "    M1_to_L1_offset = [-19500,9200]\n",
    "    L1_to_M2_offset = [17600,12200]\n",
    "    if direction == 0:\n",
    "        new_centers = [ls+M1_to_L1_offset[0],ax+M1_to_L1_offset[1]]\n",
    "        print('generated the tile center above and right of the values provided (e.g. M1 center entered, want L1 centers) using {} offset'.format(M1_to_L1_offset))\n",
    "    elif direction == 1:\n",
    "        new_centers = [ls+L1_to_M2_offset[0],ax+L1_to_M2_offset[1]]\n",
    "        print('generated the tile center from below and right of the values provided (e.g. L1 center entered, want M2 centers) using {} offset'.format(L1_to_M2_offset))\n",
    "    else:\n",
    "        print('ERROR: you entered {}, which must be either 0 (for above, right) or 1 (for below, right)')\n",
    "        new_centers=[]\n",
    "    return new_centers"
   ]
  },
  {
   "cell_type": "code",
   "execution_count": 50,
   "id": "c5cc6c2e",
   "metadata": {},
   "outputs": [
    {
     "name": "stdout",
     "output_type": "stream",
     "text": [
      "using ls_row_offset of -1900 and ax_row_offset of 21400\n",
      "generated the tile center above and right of the values provided (e.g. M1 center entered, want L1 centers) using [-19500, 9200] offset\n",
      "using ls_row_offset of -1900 and ax_row_offset of 21400\n"
     ]
    }
   ],
   "source": [
    "# from M1 top\n",
    "M1_top_ls= 238800\n",
    "M1_top_ax= 47200\n",
    "\n",
    "# get M1 center\n",
    "M1c = (M1_top_ls+middle_from_0_offset[0],M1_top_ax+middle_from_0_offset[1])\n",
    "\n",
    "# get all M centers (13)\n",
    "\n",
    "M_ls_cs,M_ax_cs = get_row_vals(M1c,0,13)\n",
    "    \n",
    "# get L centers (12)\n",
    "L1c = get_neighbor_tile(M1c,0)\n",
    "L_ls_cs,L_ax_cs = get_row_vals(L1c,0,12)"
   ]
  },
  {
   "cell_type": "code",
   "execution_count": 51,
   "id": "f5e101a9",
   "metadata": {},
   "outputs": [
    {
     "name": "stdout",
     "output_type": "stream",
     "text": [
      "generated the tile center above and right of the values provided (e.g. M1 center entered, want L1 centers) using [-19500, 9200] offset\n",
      "[208700, 66300]\n",
      "using ls_row_offset of -1900 and ax_row_offset of 21400\n"
     ]
    }
   ],
   "source": [
    "# get K centers, using K2\n",
    "K2c=get_neighbor_tile(L1c,0)\n",
    "print(K2c)\n",
    "K_ls_cs,K_ax_cs = get_row_vals(K2c,1,13)"
   ]
  },
  {
   "cell_type": "code",
   "execution_count": 68,
   "id": "922eb5b4",
   "metadata": {},
   "outputs": [
    {
     "name": "stdout",
     "output_type": "stream",
     "text": [
      "generated the tile center above and right of the values provided (e.g. M1 center entered, want L1 centers) using [-19500, 9200] offset\n",
      "using ls_row_offset of -1900 and ax_row_offset of 21400\n",
      "generated the tile center above and right of the values provided (e.g. M1 center entered, want L1 centers) using [-19500, 9200] offset\n",
      "using ls_row_offset of -1900 and ax_row_offset of 21400\n",
      "generated the tile center above and right of the values provided (e.g. M1 center entered, want L1 centers) using [-19500, 9200] offset\n",
      "using ls_row_offset of -1900 and ax_row_offset of 21400\n",
      "generated the tile center above and right of the values provided (e.g. M1 center entered, want L1 centers) using [-19500, 9200] offset\n",
      "using ls_row_offset of -1900 and ax_row_offset of 21400\n",
      "generated the tile center above and right of the values provided (e.g. M1 center entered, want L1 centers) using [-19500, 9200] offset\n",
      "using ls_row_offset of -1900 and ax_row_offset of 21400\n",
      "generated the tile center above and right of the values provided (e.g. M1 center entered, want L1 centers) using [-19500, 9200] offset\n",
      "using ls_row_offset of -1900 and ax_row_offset of 21400\n",
      "generated the tile center above and right of the values provided (e.g. M1 center entered, want L1 centers) using [-19500, 9200] offset\n",
      "using ls_row_offset of -1900 and ax_row_offset of 21400\n",
      "generated the tile center above and right of the values provided (e.g. M1 center entered, want L1 centers) using [-19500, 9200] offset\n",
      "using ls_row_offset of -1900 and ax_row_offset of 21400\n",
      "generated the tile center above and right of the values provided (e.g. M1 center entered, want L1 centers) using [-19500, 9200] offset\n",
      "using ls_row_offset of -1900 and ax_row_offset of 21400\n",
      "generated the tile center above and right of the values provided (e.g. M1 center entered, want L1 centers) using [-19500, 9200] offset\n"
     ]
    }
   ],
   "source": [
    "# get Js, Hs, Fs\n",
    "# J from L\n",
    "J1c = get_neighbor_tile([K_ls_cs[0],K_ax_cs[0]],0)\n",
    "J_ls_cs,J_ax_cs = get_row_vals(J1c,0,12)\n",
    "\n",
    "I2c = get_neighbor_tile(J1c,0)\n",
    "I_ls_cs,I_ax_cs = get_row_vals(I2c,1,13)\n",
    "\n",
    "H1c = get_neighbor_tile([I_ls_cs[0],I_ax_cs[0]],0)\n",
    "H_ls_cs,H_ax_cs = get_row_vals(H1c,0,12)\n",
    "\n",
    "G2c = get_neighbor_tile(H1c,0)\n",
    "G_ls_cs,G_ax_cs = get_row_vals(G2c,1,13)\n",
    "\n",
    "F2c = get_neighbor_tile(G2c,0)\n",
    "F_ls_cs,F_ax_cs = get_row_vals(F2c,1,12)\n",
    "\n",
    "E2c = get_neighbor_tile([F_ls_cs[0],F_ax_cs[0]],0)\n",
    "E_ls_cs,E_ax_cs = get_row_vals(E2c,1,13)\n",
    "\n",
    "# get D1 from E2, make 10 Ds\n",
    "D1c=get_neighbor_tile(E2c,0)\n",
    "D_ls_cs,D_ax_cs = get_row_vals(D1c,0,10)\n",
    "\n",
    "# get C1 from D2, make 7 Cs\n",
    "C1c = get_neighbor_tile([D_ls_cs[1],D_ax_cs[1]],0)\n",
    "C_ls_cs,C_ax_cs = get_row_vals(C1c,0,7)\n",
    "\n",
    "# get B1 from C2, make 4 Bs\n",
    "B1c = get_neighbor_tile([C_ls_cs[1],C_ax_cs[1]],0)\n",
    "B_ls_cs,B_ax_cs = get_row_vals(B1c,0,4)\n",
    "\n",
    "# get A1 from B2\n",
    "A1c = get_neighbor_tile([B_ls_cs[1],B_ax_cs[1]],0)\n",
    "A_ls_cs = [A1c[0]]\n",
    "A_ax_cs = [A1c[1]]\n"
   ]
  },
  {
   "cell_type": "code",
   "execution_count": 76,
   "id": "d4bea3ab",
   "metadata": {},
   "outputs": [
    {
     "data": {
      "text/plain": [
       "<matplotlib.collections.PathCollection at 0x188b9d3d940>"
      ]
     },
     "execution_count": 76,
     "metadata": {},
     "output_type": "execute_result"
    },
    {
     "data": {
      "image/png": "[encoded data removed]",
      "text/plain": [
       "<Figure size 432x288 with 1 Axes>"
      ]
     },
     "metadata": {
      "needs_background": "light"
     },
     "output_type": "display_data"
    }
   ],
   "source": [
    "plt.scatter(A_ax_cs,A_ls_cs)\n",
    "plt.scatter(B_ax_cs,B_ls_cs)\n",
    "plt.scatter(C_ax_cs,C_ls_cs)\n",
    "plt.scatter(D_ax_cs,D_ls_cs)\n",
    "plt.scatter(E_ax_cs,E_ls_cs)\n",
    "plt.scatter(E_ax_cs[0],E_ls_cs[0],s=100)\n",
    "plt.scatter(F_ax_cs,F_ls_cs)\n",
    "plt.scatter(G_ax_cs,G_ls_cs)\n",
    "plt.scatter(H_ax_cs,H_ls_cs)\n",
    "plt.scatter(I_ax_cs,I_ls_cs)\n",
    "plt.scatter(J_ax_cs,J_ls_cs)\n",
    "plt.scatter(K_ax_cs,K_ls_cs)\n",
    "plt.scatter(L_ax_cs,L_ls_cs)\n",
    "plt.scatter(M_ax_cs,M_ls_cs)\n"
   ]
  },
  {
   "cell_type": "code",
   "execution_count": 57,
   "id": "a6725cfb",
   "metadata": {},
   "outputs": [
    {
     "name": "stdout",
     "output_type": "stream",
     "text": [
      "159000.0 22400.0\n",
      "158300 13700\n"
     ]
    }
   ],
   "source": [
    "print(A1c[1]+yval_offsets[3],A1c[0]+xval_offsets[3])\n"
   ]
  },
  {
   "cell_type": "code",
   "execution_count": 60,
   "id": "865e50fe",
   "metadata": {},
   "outputs": [
    {
     "name": "stdout",
     "output_type": "stream",
     "text": [
      "[157600. 165600. 166200. 159000. 151100. 150400.]\n",
      "[ 4800.  8800. 17400. 22400. 19200. 10000.]\n"
     ]
    },
    {
     "data": {
      "image/png": "[encoded data removed]",
      "text/plain": [
       "<Figure size 432x288 with 1 Axes>"
      ]
     },
     "metadata": {
      "needs_background": "light"
     },
     "output_type": "display_data"
    }
   ],
   "source": [
    "plt.scatter(A1c[1]+yval_offsets,A1c[0]+xval_offsets)\n",
    "plt.scatter(A1c[1],A1c[0])\n",
    "plt.scatter(A1c[1]+yval_offsets[3],A1c[0]+xval_offsets[3],c='r')\n",
    "print(A1c[1]+yval_offsets)\n",
    "print(A1c[0]+xval_offsets)"
   ]
  },
  {
   "cell_type": "code",
   "execution_count": 78,
   "id": "9d926132",
   "metadata": {},
   "outputs": [
    {
     "name": "stdout",
     "output_type": "stream",
     "text": [
      "generated the tile center from below and right of the values provided (e.g. L1 center entered, want M2 centers) using [17600, 12200] offset\n",
      "using ls_row_offset of -1900 and ax_row_offset of 21400\n",
      "generated the tile center from below and right of the values provided (e.g. L1 center entered, want M2 centers) using [17600, 12200] offset\n",
      "using ls_row_offset of -1900 and ax_row_offset of 21400\n",
      "generated the tile center from below and right of the values provided (e.g. L1 center entered, want M2 centers) using [17600, 12200] offset\n",
      "using ls_row_offset of -1900 and ax_row_offset of 21400\n",
      "generated the tile center from below and right of the values provided (e.g. L1 center entered, want M2 centers) using [17600, 12200] offset\n"
     ]
    }
   ],
   "source": [
    "# get N1 from M2, get 10 Ns\n",
    "N1c = get_neighbor_tile([M_ls_cs[1],M_ax_cs[1]],1)\n",
    "N_ls_cs,N_ax_cs = get_row_vals(N1c,0,10)\n",
    "\n",
    "# get O1 from N2, get 7 Os\n",
    "O1c = get_neighbor_tile([N_ls_cs[1],N_ax_cs[1]],1)\n",
    "O_ls_cs,O_ax_cs = get_row_vals(O1c,0,7)\n",
    "\n",
    "# get P1 from O2, get 4 Ps\n",
    "P1c = get_neighbor_tile([O_ls_cs[1],O_ax_cs[1]],1)\n",
    "P_ls_cs,P_ax_cs = get_row_vals(P1c,0,4)\n",
    "\n",
    "# g15 Q1 from Ps\n",
    "Q1c = get_neighbor_tile([P_ls_cs[1],P_ax_cs[1]],1)\n",
    "Q_ls_cs = [Q1c[0]]\n",
    "Q_ax_cs = [Q1c[1]]\n"
   ]
  },
  {
   "cell_type": "code",
   "execution_count": 80,
   "id": "e94192f0",
   "metadata": {},
   "outputs": [],
   "source": [
    "all_ax_cs = [A_ax_cs,B_ax_cs,C_ax_cs,D_ax_cs,E_ax_cs,F_ax_cs,G_ax_cs,H_ax_cs,I_ax_cs,J_ax_cs,K_ax_cs,L_ax_cs,M_ax_cs,N_ax_cs,O_ax_cs,P_ax_cs,Q_ax_cs]\n",
    "all_ls_cs = [A_ls_cs,B_ls_cs,C_ls_cs,D_ls_cs,E_ls_cs,F_ls_cs,G_ls_cs,H_ls_cs,I_ls_cs,J_ls_cs,K_ls_cs,L_ls_cs,M_ls_cs,N_ls_cs,O_ls_cs,P_ls_cs,Q_ls_cs]"
   ]
  },
  {
   "cell_type": "code",
   "execution_count": 82,
   "id": "55a9de7d",
   "metadata": {},
   "outputs": [
    {
     "data": {
      "image/png": "[encoded data removed]",
      "text/plain": [
       "<Figure size 432x288 with 1 Axes>"
      ]
     },
     "metadata": {
      "needs_background": "light"
     },
     "output_type": "display_data"
    }
   ],
   "source": [
    "for i in np.arange(0,len(all_ax_cs)):\n",
    "    plt.scatter(all_ax_cs[i],all_ls_cs[i])\n",
    "plt.scatter(all_ax_cs[0],all_ls_cs[0],s=100)\n",
    "    \n",
    "O4c = (O_ls_cs[3],O_ax_cs[3])\n",
    "plt.xlim([0,350000])\n",
    "plt.ylim([-5000,345000])\n",
    "plt.title('check O4_bottom is [ls,ax]: {} \\n check A1_bottom is {} \\n check E13_bottom is {}'.format([int(O4c[0]+xval_offsets[0]),int(O4c[1]+yval_offsets[0])],[int(A1c[0]+xval_offsets[0]),int(A1c[1]+yval_offsets[0])],[int(E_ls_cs[-1]+xval_offsets[0]),int(E_ax_cs[-1]+yval_offsets[0])]))\n",
    "plt.scatter(current_file.ax_new_guess,current_file.ls_guess,c='k',alpha=0.2)\n",
    "plt.show()"
   ]
  },
  {
   "cell_type": "code",
   "execution_count": 85,
   "id": "5c93e84a",
   "metadata": {},
   "outputs": [
    {
     "name": "stdout",
     "output_type": "stream",
     "text": [
      "ABCDEFGHIJLKMNOPQ ['1' '2' '3' '4' '5' '6' '7' '8' '9' '10' '11' '12' '13']\n"
     ]
    }
   ],
   "source": [
    "alpha = 'ABCDEFGHIJLKMNOPQ'\n",
    "numera = np.arange(1,14).astype(str)\n",
    "print(alpha,numera)"
   ]
  },
  {
   "cell_type": "code",
   "execution_count": 86,
   "id": "62cfdcc7",
   "metadata": {},
   "outputs": [
    {
     "data": {
      "text/plain": [
       "'1A'"
      ]
     },
     "execution_count": 86,
     "metadata": {},
     "output_type": "execute_result"
    }
   ],
   "source": [
    "\n"
   ]
  },
  {
   "cell_type": "code",
   "execution_count": 92,
   "id": "2c2c2f1f",
   "metadata": {},
   "outputs": [
    {
     "name": "stdout",
     "output_type": "stream",
     "text": [
      "0\n",
      "1\n",
      "2\n",
      "3\n",
      "4\n",
      "5\n",
      "6\n",
      "7\n",
      "8\n",
      "9\n",
      "10\n",
      "11\n",
      "12\n",
      "13\n",
      "14\n",
      "15\n",
      "16\n"
     ]
    }
   ],
   "source": [
    "names = []\n",
    "ls_guesses = []\n",
    "ax_new_guesses = []\n",
    "\n",
    "for i in np.arange(0,len(all_ax_cs)):\n",
    "    print(i)\n",
    "    curr_ax = all_ax_cs[i]\n",
    "    curr_ls = all_ls_cs[i]\n",
    "\n",
    "    for j in np.arange(0,len(curr_ax)):\n",
    "        names.append(alpha[i]+numera[j])\n",
    "        ls_guesses.append(int(curr_ls[j]))\n",
    "        ax_new_guesses.append(int(curr_ax[j]))\n",
    "new_dict = {'name':names,'ls_guess':ls_guesses,'ax_new_guess':ax_new_guesses}\n",
    "new_csv = pd.DataFrame(new_dict)        "
   ]
  },
  {
   "cell_type": "code",
   "execution_count": 109,
   "id": "c711919b",
   "metadata": {},
   "outputs": [
    {
     "data": {
      "text/plain": [
       "'../../../zaber_centers_20240104.csv'"
      ]
     },
     "execution_count": 109,
     "metadata": {},
     "output_type": "execute_result"
    }
   ],
   "source": [
    "now = datetime.now()\n",
    "filestring = \"../../../zaber_centers_\"+now.strftime(\"%Y%m%d\")+\".csv\"\n",
    "filestring"
   ]
  },
  {
   "cell_type": "code",
   "execution_count": 110,
   "id": "e284c53f",
   "metadata": {},
   "outputs": [],
   "source": [
    "new_csv.to_csv(filestring)"
   ]
  },
  {
   "cell_type": "code",
   "execution_count": 83,
   "id": "ed775147",
   "metadata": {},
   "outputs": [
    {
     "data": {
      "text/html": [
       "<div>\n",
       "<style scoped>\n",
       "    .dataframe tbody tr th:only-of-type {\n",
       "        vertical-align: middle;\n",
       "    }\n",
       "\n",
       "    .dataframe tbody tr th {\n",
       "        vertical-align: top;\n",
       "    }\n",
       "\n",
       "    .dataframe thead th {\n",
       "        text-align: right;\n",
       "    }\n",
       "</style>\n",
       "<table border=\"1\" class=\"dataframe\">\n",
       "  <thead>\n",
       "    <tr style=\"text-align: right;\">\n",
       "      <th></th>\n",
       "      <th>name</th>\n",
       "      <th>ls_guess</th>\n",
       "      <th>ax_new_guess</th>\n",
       "    </tr>\n",
       "  </thead>\n",
       "  <tbody>\n",
       "    <tr>\n",
       "      <th>0</th>\n",
       "      <td>A1</td>\n",
       "      <td>3736</td>\n",
       "      <td>166646</td>\n",
       "    </tr>\n",
       "    <tr>\n",
       "      <th>1</th>\n",
       "      <td>B1</td>\n",
       "      <td>32429</td>\n",
       "      <td>130149</td>\n",
       "    </tr>\n",
       "    <tr>\n",
       "      <th>2</th>\n",
       "      <td>B2</td>\n",
       "      <td>30151</td>\n",
       "      <td>151537</td>\n",
       "    </tr>\n",
       "    <tr>\n",
       "      <th>3</th>\n",
       "      <td>B3</td>\n",
       "      <td>29364</td>\n",
       "      <td>166846</td>\n",
       "    </tr>\n",
       "    <tr>\n",
       "      <th>4</th>\n",
       "      <td>B4</td>\n",
       "      <td>19891</td>\n",
       "      <td>197765</td>\n",
       "    </tr>\n",
       "    <tr>\n",
       "      <th>...</th>\n",
       "      <td>...</td>\n",
       "      <td>...</td>\n",
       "      <td>...</td>\n",
       "    </tr>\n",
       "    <tr>\n",
       "      <th>153</th>\n",
       "      <td>P1</td>\n",
       "      <td>292582</td>\n",
       "      <td>145918</td>\n",
       "    </tr>\n",
       "    <tr>\n",
       "      <th>154</th>\n",
       "      <td>P2</td>\n",
       "      <td>288429</td>\n",
       "      <td>173002</td>\n",
       "    </tr>\n",
       "    <tr>\n",
       "      <th>155</th>\n",
       "      <td>P3</td>\n",
       "      <td>288179</td>\n",
       "      <td>194388</td>\n",
       "    </tr>\n",
       "    <tr>\n",
       "      <th>156</th>\n",
       "      <td>P4</td>\n",
       "      <td>288754</td>\n",
       "      <td>212759</td>\n",
       "    </tr>\n",
       "    <tr>\n",
       "      <th>157</th>\n",
       "      <td>Q1</td>\n",
       "      <td>300372</td>\n",
       "      <td>187681</td>\n",
       "    </tr>\n",
       "  </tbody>\n",
       "</table>\n",
       "<p>158 rows × 3 columns</p>\n",
       "</div>"
      ],
      "text/plain": [
       "    name  ls_guess  ax_new_guess\n",
       "0     A1      3736        166646\n",
       "1     B1     32429        130149\n",
       "2     B2     30151        151537\n",
       "3     B3     29364        166846\n",
       "4     B4     19891        197765\n",
       "..   ...       ...           ...\n",
       "153   P1    292582        145918\n",
       "154   P2    288429        173002\n",
       "155   P3    288179        194388\n",
       "156   P4    288754        212759\n",
       "157   Q1    300372        187681\n",
       "\n",
       "[158 rows x 3 columns]"
      ]
     },
     "execution_count": 83,
     "metadata": {},
     "output_type": "execute_result"
    }
   ],
   "source": [
    "current_file"
   ]
  },
  {
   "cell_type": "code",
   "execution_count": 65,
   "id": "05b06946",
   "metadata": {},
   "outputs": [
    {
     "data": {
      "text/plain": [
       "(-5000.0, 345000.0)"
      ]
     },
     "execution_count": 65,
     "metadata": {},
     "output_type": "execute_result"
    },
    {
     "data": {
      "image/png": "[encoded data removed]",
      "text/plain": [
       "<Figure size 432x288 with 1 Axes>"
      ]
     },
     "metadata": {
      "needs_background": "light"
     },
     "output_type": "display_data"
    }
   ],
   "source": [
    "#make csv file formatted for Bonsai \n",
    "current_file = pd.read_csv('/Users/dennise/Downloads/zaber_centers_20230213.csv')\n",
    "plt.scatter(current_file.ax_new_guess,current_file.ls_guess)\n",
    "plt.xlim([0,350000])\n",
    "plt.ylim([-5000,345000])"
   ]
  }
 ],
 "metadata": {
  "kernelspec": {
   "display_name": "Python 3 (ipykernel)",
   "language": "python",
   "name": "python3"
  },
  "language_info": {
   "codemirror_mode": {
    "name": "ipython",
    "version": 3
   },
   "file_extension": ".py",
   "mimetype": "text/x-python",
   "name": "python",
   "nbconvert_exporter": "python",
   "pygments_lexer": "ipython3",
   "version": "3.9.7"
  }
 },
 "nbformat": 4,
 "nbformat_minor": 5
}
